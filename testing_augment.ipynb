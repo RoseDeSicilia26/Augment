{
 "cells": [
  {
   "cell_type": "code",
   "execution_count": 1,
   "metadata": {},
   "outputs": [],
   "source": [
    "from augment import Augment     "
   ]
  },
  {
   "cell_type": "code",
   "execution_count": null,
   "metadata": {},
   "outputs": [],
   "source": [
    "aug = Augment()"
   ]
  },
  {
   "attachments": {},
   "cell_type": "markdown",
   "metadata": {},
   "source": [
    "Text file\n",
    "\n",
    "schema with no description"
   ]
  },
  {
   "cell_type": "code",
   "execution_count": 2,
   "metadata": {},
   "outputs": [],
   "source": [
    "aug2 = Augment()"
   ]
  },
  {
   "cell_type": "code",
   "execution_count": 3,
   "metadata": {},
   "outputs": [],
   "source": [
    "aug2.load_text_file(\"C:\\\\Users\\\\t-rdesicilia\\\\Documents\\\\VSCodeProjects\\\\causal-llm\\\\causal-llm\\\\data\\\\features_soil.txt\")"
   ]
  },
  {
   "cell_type": "code",
   "execution_count": 4,
   "metadata": {},
   "outputs": [
    {
     "name": "stdout",
     "output_type": "stream",
     "text": [
      "Crop Type: \n",
      "Cation Exchange Capacity: \n",
      "Conductivity: \n",
      "Soil Organic Carbon: \n",
      "Bulk density: \n",
      "Soil texture: \n",
      "Field Operation Ploughing: \n",
      "Field Operation Fertilizer: \n",
      "Irrigation: \n",
      "Soil moisture: \n",
      "Soil temperature: \n",
      "Rainfall volume: \n",
      "Rainfall timing: \n",
      "Min Temperature: \n",
      "Max Temperature: \n",
      "Farm size: \n",
      "Location: \n",
      "Farm yield: \n",
      "Technology used: \n",
      "Livestock: \n"
     ]
    }
   ],
   "source": [
    "print(aug2.get_schema())"
   ]
  },
  {
   "cell_type": "code",
   "execution_count": 5,
   "metadata": {},
   "outputs": [
    {
     "name": "stdout",
     "output_type": "stream",
     "text": [
      "Crop Type: The Crop Type column represents the category or variety of the crop being cultivated in each data entry, such as wheat, corn, rice, or any other agricultural product. This information is crucial for understanding the specific agricultural practices needed, as well as for identifying growth patterns, yields, and factors affecting each type of crop in different environments.\n",
      "Cation Exchange Capacity: Cation Exchange Capacity (CEC) is a measure of the soil's ability to hold and exchange positively charged ions (cations) such as potassium, calcium, and magnesium with plant roots. A higher CEC indicates a greater capacity to retain essential nutrients and maintain soil fertility, which can influence crop growth and farm yields.\n",
      "Conductivity: Conductivity refers to the ability of the soil to conduct electrical currents, which can help determine the presence and concentration of essential nutrients and salts in the soil. This column represents the measured soil conductivity in the dataset, which can impact crop growth, productivity, and overall farm yield.\n",
      "Soil Organic Carbon: Soil Organic Carbon is a measure of the amount of carbon stored in the soil as organic matter, which plays a key role in overall soil health and fertility. It influences various chemical, physical, and biological properties of the soil, such as nutrient availability, water-holding capacity, and soil structure. This column indicates the level of Soil Organic Carbon in the dataset, which is important to consider for crop production and sustainability.\n",
      "Bulk density: Bulk density represents the mass of soil per unit volume, typically expressed in grams per cubic centimeter (g/cm³). It is an important parameter in agriculture, as it can influence root growth, water retention, and nutrient availability to plants. Lower bulk densities generally indicate better soil structure and higher porosity, promoting plant growth and development.\n",
      "Soil texture: Soil texture refers to the proportion of different particle sizes (sand, silt, and clay) present in the soil, which greatly affects its physical and chemical properties. It plays a crucial role in determining water holding capacity, nutrient availability, and erosion potential, ultimately influencing crop growth and farm yield.\n",
      "Field Operation Ploughing: Field Operation Ploughing refers to the agricultural process and frequency of turning over and loosening the soil in a farm, promoting better crop growth by facilitating better nutrient penetration, aeration, and moisture retention. It also aids in managing weeds and incorporating crop residues, ultimately affecting crop yield.\n",
      "Field Operation Fertilizer: The Field Operation Fertilizer column represents the type, amount, and application method of fertilizers used in the agricultural field. This can include information on the usage of organic or chemical fertilizers, application frequency, and any other relevant details that may impact crop growth, soil health, and overall farm productivity.\n",
      "Irrigation: The Irrigation column represents the method and frequency of water supply used for the crops in the farm, which has a significant impact on their growth and final yield. It takes into account factors such as water source, irrigation system type (e.g., drip, sprinkler, or surface), and watering schedule, helping to analyze and optimize water management practices.\n",
      "Soil moisture: Soil moisture refers to the amount of water contained within the soil, typically expressed as a percentage of the soil volume. This variable is crucial for understanding the availability of water for crop growth and development, as well as the overall agricultural productivity. Soil moisture can be influenced by factors such as rainfall, irrigation, soil texture, and climate conditions.\n",
      "Soil temperature: Soil temperature refers to the measurement of the heat or thermal energy within the soil. It influences various biological and chemical processes such as plant growth, nutrient cycling, and soil moisture dynamics. It can vary due to factors such as solar radiation, air temperature, and soil type. Adequate soil temperature is crucial for optimal crop growth and yield.\n",
      "Rainfall volume: The Rainfall volume column represents the amount of precipitation that has fallen on a specific farm over a defined period, usually measured in millimeters or inches. This data is essential for understanding the water availability for crop growth and can help inform decisions on irrigation management and planting schedules.\n",
      "Rainfall timing: Rainfall timing refers to the distribution of rainfall events over a specific period, such as a growing season, and how it impacts agricultural activities, crop growth, and overall farm productivity. This column records the timing of rainfall events (e.g., early, mid or late season) that have a direct or indirect influence on crop yield, farm management decisions, and water resource availability.\n",
      "Min Temperature: The Min Temperature column in the dataset represents the minimum temperature recorded at the farm during a specific period of time, typically measured in degrees Celsius (°C) or Fahrenheit (°F). This data is essential for understanding the impact of low temperatures on crops, farm yield, and other farming-related activities, as well as on the livestock present on the farm.\n",
      "Max Temperature: The Max Temperature column represents the highest recorded temperature for a specified period, usually daily, in the context of crop and farm-related data. This information is crucial for understanding the effect of temperature extremes on crop growth, farm yield, and agricultural practices. Higher maximum temperatures may influence crop water requirements, soil moisture, and overall plant development.\n",
      "Farm size: Farm size represents the total area of land being used for agricultural purposes within a specific farm. This measurement can be expressed in units such as acres, square meters, or hectares. Larger farm sizes can influence the level of mechanization, crop yield, economic output, and resource management practices adopted by the farm owner.\n",
      "Location: The Location column represents the geographical area where the farm is situated. This could include information such as region, country, or specific coordinates. Location can influence various factors such as climate, soil types, and accessibility to resources, which in turn can affect farming practices and crop yields.\n",
      "Farm yield: Farm yield refers to the amount of agricultural produce obtained from a given farm, typically measured in weight or volume per unit area. This value is influenced by various factors such as crop type, soil characteristics, weather conditions, and farming practices. A higher farm yield indicates better productivity and efficient use of resources, which is crucial for sustainable agriculture and food security.\n",
      "Technology used: The \"Technology used\" column presents information about the specific agricultural technologies implemented on each farm, such as precision agriculture tools, drones, advanced irrigation systems, or pest management solutions. This data is essential to understand the influence of these technologies on agricultural practices, farm productivity, and overall crop yield.\n",
      "Livestock: Livestock refers to the animals raised and managed in a farming system for various purposes such as food, fiber, labor or other products. This column indicates the presence and variety of livestock on the farm, potentially affecting the farm yield, soil characteristics, and interactions with the crops grown.\n"
     ]
    }
   ],
   "source": [
    "aug2.augment_descriptions(auto=True)\n",
    "print(aug2.get_schema())"
   ]
  },
  {
   "cell_type": "code",
   "execution_count": 6,
   "metadata": {},
   "outputs": [
    {
     "name": "stdout",
     "output_type": "stream",
     "text": [
      "<confounder>Soil texture</confounder>\n",
      "<reason>Soil texture affects both the choice of crop type and soil organic carbon. The proportion of sand, silt, and clay in the soil directly influences the crops that can be planted, as different crops thrive in different soil textures. Soil texture also impacts soil organic carbon by affecting the soil's ability to store and accumulate organic matter. I can infer that soil texture is a direct cause/parent of both crop type and soil organic carbon.</reason>\n",
      "\n",
      "<confounder>Field Operation Ploughing</confounder>\n",
      "<reason>Field Operation Ploughing can be a confounding variable, as it affects both crop type and soil organic carbon. The frequency and method of ploughing may depend on the specific crop planted, as different crops require different levels of field interventions for optimal growth. Ploughing can also affect the amount of soil organic carbon, as it influences the way the organic matter is mixed into the soil, thereby affecting carbon storage. Therefore, Field Operation Ploughing is a direct cause/parent of both crop type and soil organic carbon.</reason>\n",
      "\n",
      "<confounder>Field Operation Fertilizer</confounder>\n",
      "<reason>The type, amount, and application method of fertilizers can also confound the relationship, as they affect both crop type and soil organic carbon directly. Different crops have varying nutrient requirements and fertilizer recommendations, which influence the choice and application of fertilizers. Fertilizer application can also impact the level of soil organic carbon, especially when using organic fertilizers like compost or manure, as they contribute to the organic matter content in the soil. Thus, Field Operation Fertilizer is a direct cause/parent of both crop type and soil organic carbon.</reason>\n",
      "\n",
      "<confounder>Irrigation</confounder>\n",
      "<reason>Irrigation is another confounding variable since it is a direct cause/parent of both the crop type and soil organic carbon. Specific crop types have varying water requirements and may need different irrigation systems (e.g., drip, sprinkler, or surface) for optimal growth. In addition, the frequency and method of irrigation can impact soil organic carbon levels, as water management practices can influence the movement and decomposition of organic matter within the soil. Therefore, Irrigation is a direct cause/parent of both crop type and soil organic carbon.</reason>\n",
      "\n",
      "While there are other variables within the dataset schema provided, these are less likely to be direct causes/parents of both crop type and soil organic carbon, and their relationships could instead be mediated through the identified confounders above.\n",
      "Soil texture: Soil texture affects both the choice of crop type and soil organic carbon. The proportion of sand, silt, and clay in the soil directly influences the crops that can be planted, as different crops thrive in different soil textures. Soil texture also impacts soil organic carbon by affecting the soil's ability to store and accumulate organic matter. I can infer that soil texture is a direct cause/parent of both crop type and soil organic carbon.\n",
      "Field Operation Ploughing: Field Operation Ploughing can be a confounding variable, as it affects both crop type and soil organic carbon. The frequency and method of ploughing may depend on the specific crop planted, as different crops require different levels of field interventions for optimal growth. Ploughing can also affect the amount of soil organic carbon, as it influences the way the organic matter is mixed into the soil, thereby affecting carbon storage. Therefore, Field Operation Ploughing is a direct cause/parent of both crop type and soil organic carbon.\n",
      "Field Operation Fertilizer: The type, amount, and application method of fertilizers can also confound the relationship, as they affect both crop type and soil organic carbon directly. Different crops have varying nutrient requirements and fertilizer recommendations, which influence the choice and application of fertilizers. Fertilizer application can also impact the level of soil organic carbon, especially when using organic fertilizers like compost or manure, as they contribute to the organic matter content in the soil. Thus, Field Operation Fertilizer is a direct cause/parent of both crop type and soil organic carbon.\n",
      "Irrigation: Irrigation is another confounding variable since it is a direct cause/parent of both the crop type and soil organic carbon. Specific crop types have varying water requirements and may need different irrigation systems (e.g., drip, sprinkler, or surface) for optimal growth. In addition, the frequency and method of irrigation can impact soil organic carbon levels, as water management practices can influence the movement and decomposition of organic matter within the soil. Therefore, Irrigation is a direct cause/parent of both crop type and soil organic carbon.\n"
     ]
    }
   ],
   "source": [
    "aug2.augment_relationships(treatment = \"Crop Type\", outcome = \"Soil Organic Carbon\", auto = True)"
   ]
  },
  {
   "cell_type": "code",
   "execution_count": 7,
   "metadata": {},
   "outputs": [
    {
     "name": "stdout",
     "output_type": "stream",
     "text": [
      "Soil texture: Soil texture affects both the choice of crop type and soil organic carbon. The proportion of sand, silt, and clay in the soil directly influences the crops that can be planted, as different crops thrive in different soil textures. Soil texture also impacts soil organic carbon by affecting the soil's ability to store and accumulate organic matter. I can infer that soil texture is a direct cause/parent of both crop type and soil organic carbon.\n",
      "Field Operation Ploughing: Field Operation Ploughing can be a confounding variable, as it affects both crop type and soil organic carbon. The frequency and method of ploughing may depend on the specific crop planted, as different crops require different levels of field interventions for optimal growth. Ploughing can also affect the amount of soil organic carbon, as it influences the way the organic matter is mixed into the soil, thereby affecting carbon storage. Therefore, Field Operation Ploughing is a direct cause/parent of both crop type and soil organic carbon.\n",
      "Field Operation Fertilizer: The type, amount, and application method of fertilizers can also confound the relationship, as they affect both crop type and soil organic carbon directly. Different crops have varying nutrient requirements and fertilizer recommendations, which influence the choice and application of fertilizers. Fertilizer application can also impact the level of soil organic carbon, especially when using organic fertilizers like compost or manure, as they contribute to the organic matter content in the soil. Thus, Field Operation Fertilizer is a direct cause/parent of both crop type and soil organic carbon.\n",
      "Irrigation: Irrigation is another confounding variable since it is a direct cause/parent of both the crop type and soil organic carbon. Specific crop types have varying water requirements and may need different irrigation systems (e.g., drip, sprinkler, or surface) for optimal growth. In addition, the frequency and method of irrigation can impact soil organic carbon levels, as water management practices can influence the movement and decomposition of organic matter within the soil. Therefore, Irrigation is a direct cause/parent of both crop type and soil organic carbon.\n"
     ]
    }
   ],
   "source": [
    "print(aug2.get_confounders())"
   ]
  },
  {
   "attachments": {},
   "cell_type": "markdown",
   "metadata": {},
   "source": [
    "Text file\n",
    "\n",
    "Schema with description"
   ]
  },
  {
   "cell_type": "code",
   "execution_count": 8,
   "metadata": {},
   "outputs": [],
   "source": [
    "aug3 = Augment()"
   ]
  },
  {
   "cell_type": "code",
   "execution_count": 9,
   "metadata": {},
   "outputs": [],
   "source": [
    "aug3.load_text_file(\"C:\\\\Users\\\\t-rdesicilia\\\\Documents\\\\VSCodeProjects\\\\causal-llm\\\\causal-llm\\\\data\\\\features_soil_withDescr.txt\")"
   ]
  },
  {
   "cell_type": "code",
   "execution_count": 10,
   "metadata": {},
   "outputs": [
    {
     "name": "stdout",
     "output_type": "stream",
     "text": [
      "Crop Type: The type of wheat, corn, or other crop grown\n",
      "Cation Exchange Capacity: Cation-exchange capacity (CEC) is a measure of soil fertility\n",
      "Conductivity: Soil electrical conductivity is an indirect measurement that correlates very well with several soil physical and chemical properties, such as soil particle size and texture\n",
      "Soil Organic Carbon: Soil organic carbon (SOC) is a major contributor to overall soil health, agriculture, climate change, and food solutions.\n",
      "Bulk density: Bulk density reflects the soilâ€™s ability to function for structural support, water and solute movement, and soil aeration.\n",
      "Soil texture: Soil texture is a measure of the relative proportion of the various soil particle size fractions in soil.  Soil texture affects the physical and chemical properties of a soil.\n",
      "Field Operation Ploughing: whether the field was ploughed\n",
      "Field Operation Fertilizer: whether fertilizer was applied to the fields\n",
      "Irrigation: whether the field was irrigated\n",
      "Soil moisture: Soil moisture is the water content of the soil.\n",
      "Soil temperature: Soil temperature is the warmth of the soil\n",
      "Rainfall volume: this is a weather measurement capturing the amount of rainfall precipitation\n",
      "Rainfall timing: this is a weather measurement capturing when rainfall is occurring\n",
      "Min Temperature: this is a weather measurement capturing the average low temperature recorded at the farm\n",
      "Max Temperature: this is a weather measurement capturing the average high temperature recorded at the farm\n",
      "Farm size: this is the size of the farm in hectares\n",
      "Location: this is the location of the farm\n",
      "Farm yield: this is the total yield of the farm\n",
      "Technology used: this represents the kind of technology used on the farm, from primarily manual labor to automated machinery\n",
      "Livestock: whether livestock are kept on the farm\n"
     ]
    }
   ],
   "source": [
    "print(aug3.get_schema())"
   ]
  }
 ],
 "metadata": {
  "kernelspec": {
   "display_name": "Python 3",
   "language": "python",
   "name": "python3"
  },
  "language_info": {
   "codemirror_mode": {
    "name": "ipython",
    "version": 3
   },
   "file_extension": ".py",
   "mimetype": "text/x-python",
   "name": "python",
   "nbconvert_exporter": "python",
   "pygments_lexer": "ipython3",
   "version": "3.10.11"
  },
  "orig_nbformat": 4
 },
 "nbformat": 4,
 "nbformat_minor": 2
}
