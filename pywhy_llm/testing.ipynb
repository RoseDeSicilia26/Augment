{
 "cells": [
  {
   "cell_type": "code",
   "execution_count": 7,
   "metadata": {},
   "outputs": [
    {
     "ename": "ModuleNotFoundError",
     "evalue": "No module named 'dodiscover.typing'",
     "output_type": "error",
     "traceback": [
      "\u001b[1;31m---------------------------------------------------------------------------\u001b[0m",
      "\u001b[1;31mModuleNotFoundError\u001b[0m                       Traceback (most recent call last)",
      "Cell \u001b[1;32mIn[7], line 1\u001b[0m\n\u001b[1;32m----> 1\u001b[0m \u001b[39mimport\u001b[39;00m \u001b[39mdodiscover\u001b[39;00m\n",
      "File \u001b[1;32mc:\\Users\\t-rdesicilia\\Documents\\VSCodeProjects\\Augment\\askwhy_venv\\lib\\site-packages\\dodiscover\\__init__.py:1\u001b[0m\n\u001b[1;32m----> 1\u001b[0m \u001b[39mfrom\u001b[39;00m \u001b[39m.\u001b[39;00m \u001b[39mimport\u001b[39;00m cd  \u001b[39m# noqa: F401\u001b[39;00m\n\u001b[0;32m      2\u001b[0m \u001b[39mfrom\u001b[39;00m \u001b[39m.\u001b[39;00m \u001b[39mimport\u001b[39;00m ci  \u001b[39m# noqa: F401\u001b[39;00m\n\u001b[0;32m      3\u001b[0m \u001b[39mfrom\u001b[39;00m \u001b[39m.\u001b[39;00m \u001b[39mimport\u001b[39;00m metrics  \u001b[39m# noqa: F401\u001b[39;00m\n",
      "File \u001b[1;32mc:\\Users\\t-rdesicilia\\Documents\\VSCodeProjects\\Augment\\askwhy_venv\\lib\\site-packages\\dodiscover\\cd\\__init__.py:2\u001b[0m\n\u001b[0;32m      1\u001b[0m \u001b[39mfrom\u001b[39;00m \u001b[39m.\u001b[39;00m\u001b[39mbase\u001b[39;00m \u001b[39mimport\u001b[39;00m BaseConditionalDiscrepancyTest\n\u001b[1;32m----> 2\u001b[0m \u001b[39mfrom\u001b[39;00m \u001b[39m.\u001b[39;00m\u001b[39mbregman\u001b[39;00m \u001b[39mimport\u001b[39;00m BregmanCDTest\n\u001b[0;32m      3\u001b[0m \u001b[39mfrom\u001b[39;00m \u001b[39m.\u001b[39;00m\u001b[39mkernel_test\u001b[39;00m \u001b[39mimport\u001b[39;00m KernelCDTest\n",
      "File \u001b[1;32mc:\\Users\\t-rdesicilia\\Documents\\VSCodeProjects\\Augment\\askwhy_venv\\lib\\site-packages\\dodiscover\\cd\\bregman.py:8\u001b[0m\n\u001b[0;32m      5\u001b[0m \u001b[39mfrom\u001b[39;00m \u001b[39mnumpy\u001b[39;00m\u001b[39m.\u001b[39;00m\u001b[39mtyping\u001b[39;00m \u001b[39mimport\u001b[39;00m ArrayLike\n\u001b[0;32m      7\u001b[0m \u001b[39mfrom\u001b[39;00m \u001b[39mdodiscover\u001b[39;00m\u001b[39m.\u001b[39;00m\u001b[39mci\u001b[39;00m\u001b[39m.\u001b[39;00m\u001b[39mkernel_utils\u001b[39;00m \u001b[39mimport\u001b[39;00m corrent_matrix, von_neumann_divergence\n\u001b[1;32m----> 8\u001b[0m \u001b[39mfrom\u001b[39;00m \u001b[39mdodiscover\u001b[39;00m\u001b[39m.\u001b[39;00m\u001b[39mtyping\u001b[39;00m \u001b[39mimport\u001b[39;00m Column\n\u001b[0;32m     10\u001b[0m \u001b[39mfrom\u001b[39;00m \u001b[39m.\u001b[39;00m\u001b[39mbase\u001b[39;00m \u001b[39mimport\u001b[39;00m BaseConditionalDiscrepancyTest\n\u001b[0;32m     13\u001b[0m \u001b[39mclass\u001b[39;00m \u001b[39mBregmanCDTest\u001b[39;00m(BaseConditionalDiscrepancyTest):\n",
      "\u001b[1;31mModuleNotFoundError\u001b[0m: No module named 'dodiscover.typing'"
     ]
    }
   ],
   "source": [
    "import dodiscover"
   ]
  }
 ],
 "metadata": {
  "kernelspec": {
   "display_name": "askwhy_venv",
   "language": "python",
   "name": "python3"
  },
  "language_info": {
   "codemirror_mode": {
    "name": "ipython",
    "version": 3
   },
   "file_extension": ".py",
   "mimetype": "text/x-python",
   "name": "python",
   "nbconvert_exporter": "python",
   "pygments_lexer": "ipython3",
   "version": "3.10.11"
  },
  "orig_nbformat": 4
 },
 "nbformat": 4,
 "nbformat_minor": 2
}
