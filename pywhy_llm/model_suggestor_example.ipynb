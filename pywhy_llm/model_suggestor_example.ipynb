{
 "cells": [
  {
   "cell_type": "code",
   "execution_count": 29,
   "metadata": {},
   "outputs": [],
   "source": [
    "from modelsuggestor import ModelSuggestor\n",
    "from typing import Dict, List, Tuple\n",
    "from dotenv import load_dotenv\n",
    "import guidance\n",
    "import os\n",
    "import re\n",
    "\n",
    "load_dotenv()\n",
    "\n",
    "\n",
    "api_key = os.getenv(\"api_key\")\n",
    "organization = os.getenv(\"organization\")\n",
    "\n",
    "# set the default language model used to execute guidance programs\n",
    "gpt4 = guidance.llms.OpenAI(api_key=api_key, organization=organization, model=\"gpt-4\")\n",
    "gpt3 = guidance.llms.OpenAI(api_key=api_key, organization=organization, model=\"gpt-3.5-turbo-16k\")\n",
    "davinci = guidance.llms.OpenAI(api_key=api_key, organization=organization, model=\"text-davinci-003\")\n",
    "davinci2 = guidance.llms.OpenAI(api_key=api_key, organization=organization, model=\"davinci\")"
   ]
  },
  {
   "cell_type": "code",
   "execution_count": 31,
   "metadata": {},
   "outputs": [
    {
     "ename": "TypeError",
     "evalue": "Protocols cannot be instantiated",
     "output_type": "error",
     "traceback": [
      "\u001b[1;31m---------------------------------------------------------------------------\u001b[0m",
      "\u001b[1;31mTypeError\u001b[0m                                 Traceback (most recent call last)",
      "Cell \u001b[1;32mIn[31], line 1\u001b[0m\n\u001b[1;32m----> 1\u001b[0m modeler \u001b[39m=\u001b[39m ModelerProtocol()\n",
      "File \u001b[1;32m~\\PythonVersions\\Python10\\lib\\typing.py:1434\u001b[0m, in \u001b[0;36m_no_init_or_replace_init\u001b[1;34m(self, *args, **kwargs)\u001b[0m\n\u001b[0;32m   1431\u001b[0m \u001b[39mcls\u001b[39m \u001b[39m=\u001b[39m \u001b[39mtype\u001b[39m(\u001b[39mself\u001b[39m)\n\u001b[0;32m   1433\u001b[0m \u001b[39mif\u001b[39;00m \u001b[39mcls\u001b[39m\u001b[39m.\u001b[39m_is_protocol:\n\u001b[1;32m-> 1434\u001b[0m     \u001b[39mraise\u001b[39;00m \u001b[39mTypeError\u001b[39;00m(\u001b[39m'\u001b[39m\u001b[39mProtocols cannot be instantiated\u001b[39m\u001b[39m'\u001b[39m)\n\u001b[0;32m   1436\u001b[0m \u001b[39m# Already using a custom `__init__`. No need to calculate correct\u001b[39;00m\n\u001b[0;32m   1437\u001b[0m \u001b[39m# `__init__` to call. This can lead to RecursionError. See bpo-45121.\u001b[39;00m\n\u001b[0;32m   1438\u001b[0m \u001b[39mif\u001b[39;00m \u001b[39mcls\u001b[39m\u001b[39m.\u001b[39m\u001b[39m__init__\u001b[39m \u001b[39mis\u001b[39;00m \u001b[39mnot\u001b[39;00m _no_init_or_replace_init:\n",
      "\u001b[1;31mTypeError\u001b[0m: Protocols cannot be instantiated"
     ]
    }
   ],
   "source": [
    "modeler = ModelerProtocol()\n"
   ]
  },
  {
   "cell_type": "code",
   "execution_count": 4,
   "metadata": {},
   "outputs": [],
   "source": [
    "variable_names = [\n",
    "    \"sleep_quality\", \n",
    "    \"heart_rate_variability\", \n",
    "    \"age\", \n",
    "    \"health_status\", \n",
    "    \"lifestyle_factors\", \n",
    "    \"caffeine_consumption\", \n",
    "    \"nutritional_status\", \n",
    "    \"gender\", \n",
    "    \"education_level\", \n",
    "    \"income_level\", \n",
    "    \"residential_area\", \n",
    "    \"medication\", \n",
    "    \"physical_activity_level\", \n",
    "    \"mental_stress_level\", \n",
    "    \"occupational_stress_level\", \n",
    "    \"ambient_temperature\",\n",
    "    \"sleep_hygiene_practices\",\n",
    "    \"chronic_health_conditions\", \n",
    "    \"menstrual_cycle_phase\"\n",
    "]"
   ]
  },
  {
   "cell_type": "code",
   "execution_count": 5,
   "metadata": {},
   "outputs": [
    {
     "data": {
      "text/html": [
       "<div id=\"guidance-stop-button-645e5bb1-1b21-4ff8-8505-baaa9d79676b\" style=\"cursor: pointer; margin: 0px; display: none; float: right; padding: 3px; border-radius: 4px 4px 4px 4px; border: 0px solid rgba(127, 127, 127, 1); padding-left: 10px; padding-right: 10px; font-size: 13px; background-color: rgba(127, 127, 127, 0.25);\">Stop program</div><div id=\"guidance-content-645e5bb1-1b21-4ff8-8505-baaa9d79676b\"><pre style='margin: 0px; padding: 0px; padding-left: 8px; margin-left: -8px; border-radius: 0px; border-left: 1px solid rgba(127, 127, 127, 0.2); white-space: pre-wrap; font-family: ColfaxAI, Arial; font-size: 15px; line-height: 23px;'><div style='display: flex; border-bottom: 1px solid rgba(127, 127, 127, 0.2); align-items: center;'><div style='flex: 0 0 80px; opacity: 0.5;'>system</div><div style='flex-grow: 1; padding: 5px; padding-top: 10px; padding-bottom: 10px; margin-top: 0px; white-space: pre-wrap; margin-bottom: 0px;'>You are a helpful assistant with expertise in causal inference. You are helping me better understand a dataset by providing me with a description of the variables. I will provide you with the name of a column variable within the dataset and you will provide a description for that column variable. Let&#x27;s take it step by step to make sure the description is relevant, succinct, and clear. \n",
       "            Here is an example:\n",
       "            ------------------------------------------\n",
       "            variable_name\n",
       "            description\n",
       "            ------------------------------------------\n",
       "            age\n",
       "            The age of the patient in years.</div></div><div style='display: flex; border-bottom: 1px solid rgba(127, 127, 127, 0.2); align-items: center;'><div style='flex: 0 0 80px; opacity: 0.5;'>user</div><div style='flex-grow: 1; padding: 5px; padding-top: 10px; padding-bottom: 10px; margin-top: 0px; white-space: pre-wrap; margin-bottom: 0px;'><span style='background-color: rgba(0, 138.56128016, 250.76166089, 0.25); display: inline;' title='{{variable}}'>menstrual_cycle_phase</span></div></div><div style='display: flex; border-bottom: 1px solid rgba(127, 127, 127, 0.2); align-items: center;'><div style='flex: 0 0 80px; opacity: 0.5;'>assistant</div><div style='flex-grow: 1; padding: 5px; padding-top: 10px; padding-bottom: 10px; margin-top: 0px; white-space: pre-wrap; margin-bottom: 0px;'><span style='background-color: rgba(0, 165, 0, 0.25); opacity: 1.0; display: inline;' title='{{gen &#x27;description&#x27; temperature=0.7}}'>The stage of the menstrual cycle the female patient is in at the time of data collection. This could include phases such as menstruation, follicular phase, ovulation, or luteal phase.</span></div></div></pre></div>\n",
       "<script type=\"text/javascript\">(()=>{var t={296:(t,e,n)=>{var i=NaN,o=\"[object Symbol]\",r=/^\\s+|\\s+$/g,a=/^[-+]0x[0-9a-f]+$/i,s=/^0b[01]+$/i,c=/^0o[0-7]+$/i,d=parseInt,u=\"object\"==typeof n.g&&n.g&&n.g.Object===Object&&n.g,l=\"object\"==typeof self&&self&&self.Object===Object&&self,f=u||l||Function(\"return this\")(),h=Object.prototype.toString,p=Math.max,m=Math.min,g=function(){return f.Date.now()};function b(t){var e=typeof t;return!!t&&(\"object\"==e||\"function\"==e)}function y(t){if(\"number\"==typeof t)return t;if(function(t){return\"symbol\"==typeof t||function(t){return!!t&&\"object\"==typeof t}(t)&&h.call(t)==o}(t))return i;if(b(t)){var e=\"function\"==typeof t.valueOf?t.valueOf():t;t=b(e)?e+\"\":e}if(\"string\"!=typeof t)return 0===t?t:+t;t=t.replace(r,\"\");var n=s.test(t);return n||c.test(t)?d(t.slice(2),n?2:8):a.test(t)?i:+t}t.exports=function(t,e,n){var i,o,r,a,s,c,d=0,u=!1,l=!1,f=!0;if(\"function\"!=typeof t)throw new TypeError(\"Expected a function\");function h(e){var n=i,r=o;return i=o=void 0,d=e,a=t.apply(r,n)}function v(t){var n=t-c;return void 0===c||n>=e||n<0||l&&t-d>=r}function _(){var t=g();if(v(t))return w(t);s=setTimeout(_,function(t){var n=e-(t-c);return l?m(n,r-(t-d)):n}(t))}function w(t){return s=void 0,f&&i?h(t):(i=o=void 0,a)}function j(){var t=g(),n=v(t);if(i=arguments,o=this,c=t,n){if(void 0===s)return function(t){return d=t,s=setTimeout(_,e),u?h(t):a}(c);if(l)return s=setTimeout(_,e),h(c)}return void 0===s&&(s=setTimeout(_,e)),a}return e=y(e)||0,b(n)&&(u=!!n.leading,r=(l=\"maxWait\"in n)?p(y(n.maxWait)||0,e):r,f=\"trailing\"in n?!!n.trailing:f),j.cancel=function(){void 0!==s&&clearTimeout(s),d=0,i=c=o=s=void 0},j.flush=function(){return void 0===s?a:w(g())},j}},777:t=>{var e,n,i=Math.max,o=(e=function(t,e){return function(t,e,n){if(\"function\"!=typeof t)throw new TypeError(\"Expected a function\");return setTimeout((function(){t.apply(void 0,n)}),1)}(t,0,e)},n=i(void 0===n?e.length-1:n,0),function(){for(var t=arguments,o=-1,r=i(t.length-n,0),a=Array(r);++o<r;)a[o]=t[n+o];o=-1;for(var s=Array(n+1);++o<n;)s[o]=t[o];return s[n]=a,function(t,e,n){switch(n.length){case 0:return t.call(e);case 1:return t.call(e,n[0]);case 2:return t.call(e,n[0],n[1]);case 3:return t.call(e,n[0],n[1],n[2])}return t.apply(e,n)}(e,this,s)});t.exports=o}},e={};function n(i){var o=e[i];if(void 0!==o)return o.exports;var r=e[i]={exports:{}};return t[i](r,r.exports,n),r.exports}n.n=t=>{var e=t&&t.__esModule?()=>t.default:()=>t;return n.d(e,{a:e}),e},n.d=(t,e)=>{for(var i in e)n.o(e,i)&&!n.o(t,i)&&Object.defineProperty(t,i,{enumerable:!0,get:e[i]})},n.g=function(){if(\"object\"==typeof globalThis)return globalThis;try{return this||new Function(\"return this\")()}catch(t){if(\"object\"==typeof window)return window}}(),n.o=(t,e)=>Object.prototype.hasOwnProperty.call(t,e),(()=>{\"use strict\";const t=t=>{const e=new Set;do{for(const n of Reflect.ownKeys(t))e.add([t,n])}while((t=Reflect.getPrototypeOf(t))&&t!==Object.prototype);return e};function e(e,{include:n,exclude:i}={}){const o=t=>{const e=e=>\"string\"==typeof e?t===e:e.test(t);return n?n.some(e):!i||!i.some(e)};for(const[n,i]of t(e.constructor.prototype)){if(\"constructor\"===i||!o(i))continue;const t=Reflect.getOwnPropertyDescriptor(n,i);t&&\"function\"==typeof t.value&&(e[i]=e[i].bind(e))}return e}var i=n(777),o=n.n(i),r=n(296),a=n.n(r);class s{constructor(t,n){e(this),this.interfaceId=t,this.callbackMap={},this.data={},this.pendingData={},this.jcomm=new c(\"guidance_interface_target_\"+this.interfaceId,this.updateData,\"open\"),this.debouncedSendPendingData500=a()(this.sendPendingData,500),this.debouncedSendPendingData1000=a()(this.sendPendingData,1e3),n&&o()(n)}send(t,e){this.addPendingData(t,e),this.sendPendingData()}sendEvent(t){for(const e of Object.keys(t))this.addPendingData(e,t[e]);this.sendPendingData()}debouncedSendEvent500(t){for(const e of Object.keys(t))this.addPendingData(e,t[e]);this.debouncedSendPendingData500()}debouncedSend500(t,e){this.addPendingData(t,e),this.debouncedSendPendingData500()}debouncedSend1000(t,e){this.addPendingData(t,e),this.debouncedSendPendingData1000()}addPendingData(t,e){Array.isArray(t)||(t=[t]);for(const n in t)this.pendingData[t[n]]=e}updateData(t){t=JSON.parse(t.data);for(const e in t)this.data[e]=t[e];for(const e in t)e in this.callbackMap&&this.callbackMap[e](this.data[e])}subscribe(t,e){this.callbackMap[t]=e,o()((e=>this.callbackMap[t](this.data[t])))}sendPendingData(){this.jcomm.send_data(this.pendingData),this.pendingData={}}}class c{constructor(t,e,n=\"open\"){this._fire_callback=this._fire_callback.bind(this),this._register=this._register.bind(this),this.jcomm=void 0,this.callback=e,void 0!==window.Jupyter?\"register\"===n?Jupyter.notebook.kernel.comm_manager.register_target(t,this._register):(this.jcomm=Jupyter.notebook.kernel.comm_manager.new_comm(t),this.jcomm.on_msg(this._fire_callback)):void 0!==window._mgr&&(\"register\"===n?window._mgr.widgetManager.proxyKernel.registerCommTarget(t,this._register):(this.jcomm=window._mgr.widgetManager.proxyKernel.createComm(t),this.jcomm.open({},\"\"),this.jcomm.onMsg=this._fire_callback))}send_data(t){void 0!==this.jcomm?this.jcomm.send(t):console.error(\"Jupyter comm module not yet loaded! So we can't send the message.\")}_register(t,e){this.jcomm=t,this.jcomm.on_msg(this._fire_callback)}_fire_callback(t){this.callback(t.content.data)}}class d{constructor(t,n){e(this),this.id=t,this.comm=new s(t),this.comm.subscribe(\"append\",this.appendData),this.comm.subscribe(\"replace\",this.replaceData),this.comm.subscribe(\"event\",this.eventOccurred),this.element=document.getElementById(\"guidance-content-\"+t),this.stop_button=document.getElementById(\"guidance-stop-button-\"+t),this.stop_button.onclick=()=>this.comm.send(\"event\",\"stop\")}appendData(t){t&&(this.stop_button.style.display=\"inline-block\",this.element.innerHTML+=t)}replaceData(t){t&&(this.stop_button.style.display=\"inline-block\",this.element.innerHTML=t)}eventOccurred(t){\"complete\"===t&&(this.stop_button.style.display=\"none\")}}window._guidanceDisplay=function(t,e){return new d(t,e)}})()})();; window._guidanceDisplay(\"645e5bb1-1b21-4ff8-8505-baaa9d79676b\");</script>"
      ]
     },
     "metadata": {},
     "output_type": "display_data"
    },
    {
     "name": "stdout",
     "output_type": "stream",
     "text": [
      "{'sleep_quality': \"A measure of the quality of an individual's sleep. This could be a subjective assessment made by the individual or an objective measure based on factors such as sleep duration, interruptions, deep sleep duration etc.\", 'heart_rate_variability': \"The variability in the time interval between successive heartbeats. It's measured in milliseconds and is an indicator of the heart's health and resilience.\", 'age': 'The \"age\" variable refers to the age of the individual or subject in the dataset, usually expressed in number of years.', 'health_status': \"The current state or condition of the individual's health, typically categorized as 'excellent', 'good', 'fair', or 'poor'. This can also include specific health conditions if the dataset is more detailed.\", 'lifestyle_factors': 'A collection of behaviors and conditions chosen by the individual, such as diet, physical activity level, smoking or alcohol consumption, which can have a significant impact on their health.', 'caffeine_consumption': 'The amount of caffeine consumed by an individual, typically measured in milligrams per day. This could include caffeine from all sources such as coffee, tea, energy drinks, chocolate, and medications.', 'nutritional_status': \"The classification of the individual's overall health and wellbeing based on their dietary intake and nutrient levels. This could include categories such as malnourished, adequately nourished, or over-nourished.\", 'gender': 'The biological sex of the individual, typically categorized as male or female.', 'education_level': 'The highest level of education that the individual has completed. This can typically range from no formal education to various levels of primary, secondary, and tertiary education.', 'income_level': 'The monetary earnings of an individual within a specific period (weekly, monthly, annually), often categorized in ranges to represent different income brackets.', 'residential_area': 'The geographical location or neighborhood where the individual resides. This could be a categorical variable representing different regions (like urban, suburban, rural), or specific neighborhood names.', 'medication': 'The type of medication prescribed to the patient.', 'physical_activity_level': 'The level of physical activity the individual engages in, usually categorized into levels such as low, moderate, or high, based on frequency, duration, and intensity of their exercise or movement habits.', 'mental_stress_level': 'The subjective level of mental stress experienced by the individual, typically measured on a scale.', 'occupational_stress_level': 'The level of stress experienced by the individual related to their occupation, typically measured on a scale. Higher values indicate greater stress. This could be influenced by factors such as workload, job security, work-life balance, etc.', 'ambient_temperature': 'The surrounding temperature in the environment, measured in degrees (Celsius or Fahrenheit), at the time of data collection.', 'sleep_hygiene_practices': 'The regular habits and practices related to sleep that an individual follows, which can influence the quality and quantity of their sleep.', 'chronic_health_conditions': 'The presence of long-term health conditions in the individual, often represented as a binary value where \"1\" indicates the presence of one or more chronic health conditions and \"0\" indicates no chronic health conditions.', 'menstrual_cycle_phase': 'The stage of the menstrual cycle the female patient is in at the time of data collection. This could include phases such as menstruation, follicular phase, ovulation, or luteal phase.'}\n"
     ]
    }
   ],
   "source": [
    "variables_and_descriptions = model.suggest_descriptions(variable_names=variable_names, llm=gpt4)\n",
    "\n",
    "print(variables_and_descriptions)"
   ]
  },
  {
   "cell_type": "code",
   "execution_count": 6,
   "metadata": {},
   "outputs": [
    {
     "data": {
      "text/html": [
       "<div id=\"guidance-stop-button-881b085b-af7d-43b0-90ab-df169e8ec927\" style=\"cursor: pointer; margin: 0px; display: none; float: right; padding: 3px; border-radius: 4px 4px 4px 4px; border: 0px solid rgba(127, 127, 127, 1); padding-left: 10px; padding-right: 10px; font-size: 13px; background-color: rgba(127, 127, 127, 0.25);\">Stop program</div><div id=\"guidance-content-881b085b-af7d-43b0-90ab-df169e8ec927\"><pre style='margin: 0px; padding: 0px; padding-left: 8px; margin-left: -8px; border-radius: 0px; border-left: 1px solid rgba(127, 127, 127, 0.2); white-space: pre-wrap; font-family: ColfaxAI, Arial; font-size: 15px; line-height: 23px;'><div style='display: flex; border-bottom: 1px solid rgba(127, 127, 127, 0.2); align-items: center;'><div style='flex: 0 0 80px; opacity: 0.5;'>system</div><div style='flex-grow: 1; padding: 5px; padding-top: 10px; padding-bottom: 10px; margin-top: 0px; white-space: pre-wrap; margin-bottom: 0px;'>You are a helpful assistant with expertise in causal inference. I will provide you with context about the dataset by showing you all the columns and their associated descriptions. You will then go varaible by variable and explain whether the variable is confounding the relationship between the treatment and the outcome and categorize it appropriately. Where a confounder is a common cause of both the treatment and the outcome. In essence, a confounder directly causes both the treatment and the outcome. \n",
       "            ------------------------------------------\n",
       "            Input:\n",
       "                treatment\n",
       "                    treatment_variable_name\n",
       "                    description of treatment_variable\n",
       "\n",
       "                outcome\n",
       "                    outcome_variable_name\n",
       "                    description of outcome_variable\n",
       "\n",
       "                Dataset schema with descriptions\n",
       "                    name_of_first_variable: Description of first variable.\n",
       "                    name_of_second_variable: Description of second variable.\n",
       "                    ...\n",
       "                    name_of_nth_confounder: Description of nth variable.          \n",
       "\n",
       "            Output: \n",
       "                &lt;confounder&gt;name_of_first_variable&lt;/confounder&gt;: &lt;explanation&gt;Description of first variable.&lt;/explanation&gt;\n",
       "                &lt;category&gt;True or false&lt;/category&gt;\n",
       "\n",
       "                &lt;confounder&gt;name_of_second_variable&lt;/confounder&gt;: &lt;explanation&gt;Description of second variable.&lt;/explanation&gt;\n",
       "                &lt;category&gt;True or false&lt;/category&gt;\n",
       "\n",
       "                ...\n",
       "\n",
       "                &lt;confounder&gt;name_of_nth_confounder&lt;/confounder&gt;: &lt;explanation&gt;Description of nth variable. \n",
       "                Explanation for why and how the selected variable is or is not a confounder.&lt;/explanation&gt;\n",
       "                &lt;category&gt;True or false&lt;/category&gt;</div></div><div style='display: flex; border-bottom: 1px solid rgba(127, 127, 127, 0.2); align-items: center;'><div style='flex: 0 0 80px; opacity: 0.5;'>user</div><div style='flex-grow: 1; padding: 5px; padding-top: 10px; padding-bottom: 10px; margin-top: 0px; white-space: pre-wrap; margin-bottom: 0px;'>Treatment: <span style='background-color: rgba(0, 138.56128016, 250.76166089, 0.25); display: inline;' title='{{treatment}}'>sleep_quality</span>\n",
       "            Outcome: <span style='background-color: rgba(0, 138.56128016, 250.76166089, 0.25); display: inline;' title='{{outcome}}'>heart_rate_variability</span>\n",
       "\n",
       "            Dataset schema with descriptions\n",
       "            <span style='background-color: rgba(0, 138.56128016, 250.76166089, 0.25); display: inline;' title='{{variables_and_descriptions}}'>age: The &quot;age&quot; variable refers to the age of the individual or subject in the dataset, usually expressed in number of years., health_status: The current state or condition of the individual&#x27;s health, typically categorized as &#x27;excellent&#x27;, &#x27;good&#x27;, &#x27;fair&#x27;, or &#x27;poor&#x27;. This can also include specific health conditions if the dataset is more detailed., lifestyle_factors: A collection of behaviors and conditions chosen by the individual, such as diet, physical activity level, smoking or alcohol consumption, which can have a significant impact on their health., caffeine_consumption: The amount of caffeine consumed by an individual, typically measured in milligrams per day. This could include caffeine from all sources such as coffee, tea, energy drinks, chocolate, and medications., nutritional_status: The classification of the individual&#x27;s overall health and wellbeing based on their dietary intake and nutrient levels. This could include categories such as malnourished, adequately nourished, or over-nourished., gender: The biological sex of the individual, typically categorized as male or female., education_level: The highest level of education that the individual has completed. This can typically range from no formal education to various levels of primary, secondary, and tertiary education., income_level: The monetary earnings of an individual within a specific period (weekly, monthly, annually), often categorized in ranges to represent different income brackets., residential_area: The geographical location or neighborhood where the individual resides. This could be a categorical variable representing different regions (like urban, suburban, rural), or specific neighborhood names., medication: The type of medication prescribed to the patient., physical_activity_level: The level of physical activity the individual engages in, usually categorized into levels such as low, moderate, or high, based on frequency, duration, and intensity of their exercise or movement habits., mental_stress_level: The subjective level of mental stress experienced by the individual, typically measured on a scale., occupational_stress_level: The level of stress experienced by the individual related to their occupation, typically measured on a scale. Higher values indicate greater stress. This could be influenced by factors such as workload, job security, work-life balance, etc., ambient_temperature: The surrounding temperature in the environment, measured in degrees (Celsius or Fahrenheit), at the time of data collection., sleep_hygiene_practices: The regular habits and practices related to sleep that an individual follows, which can influence the quality and quantity of their sleep., chronic_health_conditions: The presence of long-term health conditions in the individual, often represented as a binary value where &quot;1&quot; indicates the presence of one or more chronic health conditions and &quot;0&quot; indicates no chronic health conditions., menstrual_cycle_phase: The stage of the menstrual cycle the female patient is in at the time of data collection. This could include phases such as menstruation, follicular phase, ovulation, or luteal phase.</span>\n",
       "\n",
       "            What variables directly influence both the treatment and the outcome?</div></div><div style='display: flex; border-bottom: 1px solid rgba(127, 127, 127, 0.2); align-items: center;'><div style='flex: 0 0 80px; opacity: 0.5;'>assistant</div><div style='flex-grow: 1; padding: 5px; padding-top: 10px; padding-bottom: 10px; margin-top: 0px; white-space: pre-wrap; margin-bottom: 0px;'><span style='background-color: rgba(0, 165, 0, 0.25); opacity: 1.0; display: inline;' title='{{gen &#x27;confounder_explanation&#x27; temperature=0.7}}'>&lt;confounder&gt;age&lt;/confounder&gt;: &lt;explanation&gt;Age can influence both sleep quality and heart rate variability. As people age, they may experience changes in sleep patterns, and heart rate variability is known to decrease with age.&lt;/explanation&gt;\n",
       "&lt;category&gt;True&lt;/category&gt;\n",
       "\n",
       "&lt;confounder&gt;health_status&lt;/confounder&gt;: &lt;explanation&gt;Health status can influence both sleep quality and heart rate variability. Poor health status may lead to poor sleep quality and also affect heart rate variability.&lt;/explanation&gt;\n",
       "&lt;category&gt;True&lt;/category&gt;\n",
       "\n",
       "&lt;confounder&gt;lifestyle_factors&lt;/confounder&gt;: &lt;explanation&gt;Lifestyle factors can have a significant impact on both sleep quality and heart rate variability. For instance, sedentary behavior or unhealthy diet can lead to poor sleep quality and also affect heart rate variability.&lt;/explanation&gt;\n",
       "&lt;category&gt;True&lt;/category&gt;\n",
       "\n",
       "&lt;confounder&gt;caffeine_consumption&lt;/confounder&gt;: &lt;explanation&gt;Caffeine consumption can cause sleep disturbances, affecting sleep quality, and can also influence heart rate variability.&lt;/explanation&gt;\n",
       "&lt;category&gt;True&lt;/category&gt;\n",
       "\n",
       "&lt;confounder&gt;nutritional_status&lt;/confounder&gt;: &lt;explanation&gt;Nutritional status can influence both sleep quality and heart rate variability. Both undernutrition and overnutrition can lead to poor sleep quality and affect heart rate variability.&lt;/explanation&gt;\n",
       "&lt;category&gt;True&lt;/category&gt;\n",
       "\n",
       "&lt;confounder&gt;gender&lt;/confounder&gt;: &lt;explanation&gt;Gender might influence both sleep quality and heart rate variability. Sleep patterns and heart rate variability might differ between males and females due to biological factors.&lt;/explanation&gt;\n",
       "&lt;category&gt;True&lt;/category&gt;\n",
       "\n",
       "&lt;confounder&gt;education_level&lt;/confounder&gt;: &lt;explanation&gt;Education level might indirectly influence sleep quality and heart rate variability through lifestyle factors, but not a direct influence.&lt;/explanation&gt;\n",
       "&lt;category&gt;False&lt;/category&gt;\n",
       "\n",
       "&lt;confounder&gt;income_level&lt;/confounder&gt;: &lt;explanation&gt;Income level might indirectly influence sleep quality and heart rate variability through lifestyle factors, but not a direct influence.&lt;/explanation&gt;\n",
       "&lt;category&gt;False&lt;/category&gt;\n",
       "\n",
       "&lt;confounder&gt;residential_area&lt;/confounder&gt;: &lt;explanation&gt;Residential area might indirectly influence sleep quality and heart rate variability through environmental factors, but not a direct influence.&lt;/explanation&gt;\n",
       "&lt;category&gt;False&lt;/category&gt;\n",
       "\n",
       "&lt;confounder&gt;medication&lt;/confounder&gt;: &lt;explanation&gt;Medication can influence both sleep quality and heart rate variability. Certain medication can cause sleep disturbances, while others might affect</span></div></div></pre></div>\n",
       "<script type=\"text/javascript\">(()=>{var t={296:(t,e,n)=>{var i=NaN,o=\"[object Symbol]\",r=/^\\s+|\\s+$/g,a=/^[-+]0x[0-9a-f]+$/i,s=/^0b[01]+$/i,c=/^0o[0-7]+$/i,d=parseInt,u=\"object\"==typeof n.g&&n.g&&n.g.Object===Object&&n.g,l=\"object\"==typeof self&&self&&self.Object===Object&&self,f=u||l||Function(\"return this\")(),h=Object.prototype.toString,p=Math.max,m=Math.min,g=function(){return f.Date.now()};function b(t){var e=typeof t;return!!t&&(\"object\"==e||\"function\"==e)}function y(t){if(\"number\"==typeof t)return t;if(function(t){return\"symbol\"==typeof t||function(t){return!!t&&\"object\"==typeof t}(t)&&h.call(t)==o}(t))return i;if(b(t)){var e=\"function\"==typeof t.valueOf?t.valueOf():t;t=b(e)?e+\"\":e}if(\"string\"!=typeof t)return 0===t?t:+t;t=t.replace(r,\"\");var n=s.test(t);return n||c.test(t)?d(t.slice(2),n?2:8):a.test(t)?i:+t}t.exports=function(t,e,n){var i,o,r,a,s,c,d=0,u=!1,l=!1,f=!0;if(\"function\"!=typeof t)throw new TypeError(\"Expected a function\");function h(e){var n=i,r=o;return i=o=void 0,d=e,a=t.apply(r,n)}function v(t){var n=t-c;return void 0===c||n>=e||n<0||l&&t-d>=r}function _(){var t=g();if(v(t))return w(t);s=setTimeout(_,function(t){var n=e-(t-c);return l?m(n,r-(t-d)):n}(t))}function w(t){return s=void 0,f&&i?h(t):(i=o=void 0,a)}function j(){var t=g(),n=v(t);if(i=arguments,o=this,c=t,n){if(void 0===s)return function(t){return d=t,s=setTimeout(_,e),u?h(t):a}(c);if(l)return s=setTimeout(_,e),h(c)}return void 0===s&&(s=setTimeout(_,e)),a}return e=y(e)||0,b(n)&&(u=!!n.leading,r=(l=\"maxWait\"in n)?p(y(n.maxWait)||0,e):r,f=\"trailing\"in n?!!n.trailing:f),j.cancel=function(){void 0!==s&&clearTimeout(s),d=0,i=c=o=s=void 0},j.flush=function(){return void 0===s?a:w(g())},j}},777:t=>{var e,n,i=Math.max,o=(e=function(t,e){return function(t,e,n){if(\"function\"!=typeof t)throw new TypeError(\"Expected a function\");return setTimeout((function(){t.apply(void 0,n)}),1)}(t,0,e)},n=i(void 0===n?e.length-1:n,0),function(){for(var t=arguments,o=-1,r=i(t.length-n,0),a=Array(r);++o<r;)a[o]=t[n+o];o=-1;for(var s=Array(n+1);++o<n;)s[o]=t[o];return s[n]=a,function(t,e,n){switch(n.length){case 0:return t.call(e);case 1:return t.call(e,n[0]);case 2:return t.call(e,n[0],n[1]);case 3:return t.call(e,n[0],n[1],n[2])}return t.apply(e,n)}(e,this,s)});t.exports=o}},e={};function n(i){var o=e[i];if(void 0!==o)return o.exports;var r=e[i]={exports:{}};return t[i](r,r.exports,n),r.exports}n.n=t=>{var e=t&&t.__esModule?()=>t.default:()=>t;return n.d(e,{a:e}),e},n.d=(t,e)=>{for(var i in e)n.o(e,i)&&!n.o(t,i)&&Object.defineProperty(t,i,{enumerable:!0,get:e[i]})},n.g=function(){if(\"object\"==typeof globalThis)return globalThis;try{return this||new Function(\"return this\")()}catch(t){if(\"object\"==typeof window)return window}}(),n.o=(t,e)=>Object.prototype.hasOwnProperty.call(t,e),(()=>{\"use strict\";const t=t=>{const e=new Set;do{for(const n of Reflect.ownKeys(t))e.add([t,n])}while((t=Reflect.getPrototypeOf(t))&&t!==Object.prototype);return e};function e(e,{include:n,exclude:i}={}){const o=t=>{const e=e=>\"string\"==typeof e?t===e:e.test(t);return n?n.some(e):!i||!i.some(e)};for(const[n,i]of t(e.constructor.prototype)){if(\"constructor\"===i||!o(i))continue;const t=Reflect.getOwnPropertyDescriptor(n,i);t&&\"function\"==typeof t.value&&(e[i]=e[i].bind(e))}return e}var i=n(777),o=n.n(i),r=n(296),a=n.n(r);class s{constructor(t,n){e(this),this.interfaceId=t,this.callbackMap={},this.data={},this.pendingData={},this.jcomm=new c(\"guidance_interface_target_\"+this.interfaceId,this.updateData,\"open\"),this.debouncedSendPendingData500=a()(this.sendPendingData,500),this.debouncedSendPendingData1000=a()(this.sendPendingData,1e3),n&&o()(n)}send(t,e){this.addPendingData(t,e),this.sendPendingData()}sendEvent(t){for(const e of Object.keys(t))this.addPendingData(e,t[e]);this.sendPendingData()}debouncedSendEvent500(t){for(const e of Object.keys(t))this.addPendingData(e,t[e]);this.debouncedSendPendingData500()}debouncedSend500(t,e){this.addPendingData(t,e),this.debouncedSendPendingData500()}debouncedSend1000(t,e){this.addPendingData(t,e),this.debouncedSendPendingData1000()}addPendingData(t,e){Array.isArray(t)||(t=[t]);for(const n in t)this.pendingData[t[n]]=e}updateData(t){t=JSON.parse(t.data);for(const e in t)this.data[e]=t[e];for(const e in t)e in this.callbackMap&&this.callbackMap[e](this.data[e])}subscribe(t,e){this.callbackMap[t]=e,o()((e=>this.callbackMap[t](this.data[t])))}sendPendingData(){this.jcomm.send_data(this.pendingData),this.pendingData={}}}class c{constructor(t,e,n=\"open\"){this._fire_callback=this._fire_callback.bind(this),this._register=this._register.bind(this),this.jcomm=void 0,this.callback=e,void 0!==window.Jupyter?\"register\"===n?Jupyter.notebook.kernel.comm_manager.register_target(t,this._register):(this.jcomm=Jupyter.notebook.kernel.comm_manager.new_comm(t),this.jcomm.on_msg(this._fire_callback)):void 0!==window._mgr&&(\"register\"===n?window._mgr.widgetManager.proxyKernel.registerCommTarget(t,this._register):(this.jcomm=window._mgr.widgetManager.proxyKernel.createComm(t),this.jcomm.open({},\"\"),this.jcomm.onMsg=this._fire_callback))}send_data(t){void 0!==this.jcomm?this.jcomm.send(t):console.error(\"Jupyter comm module not yet loaded! So we can't send the message.\")}_register(t,e){this.jcomm=t,this.jcomm.on_msg(this._fire_callback)}_fire_callback(t){this.callback(t.content.data)}}class d{constructor(t,n){e(this),this.id=t,this.comm=new s(t),this.comm.subscribe(\"append\",this.appendData),this.comm.subscribe(\"replace\",this.replaceData),this.comm.subscribe(\"event\",this.eventOccurred),this.element=document.getElementById(\"guidance-content-\"+t),this.stop_button=document.getElementById(\"guidance-stop-button-\"+t),this.stop_button.onclick=()=>this.comm.send(\"event\",\"stop\")}appendData(t){t&&(this.stop_button.style.display=\"inline-block\",this.element.innerHTML+=t)}replaceData(t){t&&(this.stop_button.style.display=\"inline-block\",this.element.innerHTML=t)}eventOccurred(t){\"complete\"===t&&(this.stop_button.style.display=\"none\")}}window._guidanceDisplay=function(t,e){return new d(t,e)}})()})();; window._guidanceDisplay(\"881b085b-af7d-43b0-90ab-df169e8ec927\");</script>"
      ]
     },
     "metadata": {},
     "output_type": "display_data"
    },
    {
     "name": "stdout",
     "output_type": "stream",
     "text": [
      "{'age': 'Age can influence both sleep quality and heart rate variability. As people age, they may experience changes in sleep patterns, and heart rate variability is known to decrease with age.', 'health_status': 'Health status can influence both sleep quality and heart rate variability. Poor health status may lead to poor sleep quality and also affect heart rate variability.', 'lifestyle_factors': 'Lifestyle factors can have a significant impact on both sleep quality and heart rate variability. For instance, sedentary behavior or unhealthy diet can lead to poor sleep quality and also affect heart rate variability.', 'caffeine_consumption': 'Caffeine consumption can cause sleep disturbances, affecting sleep quality, and can also influence heart rate variability.', 'nutritional_status': 'Nutritional status can influence both sleep quality and heart rate variability. Both undernutrition and overnutrition can lead to poor sleep quality and affect heart rate variability.', 'gender': 'Gender might influence both sleep quality and heart rate variability. Sleep patterns and heart rate variability might differ between males and females due to biological factors.'}\n"
     ]
    }
   ],
   "source": [
    "confounders_and_descriptions = model.suggest_confounders(variables_and_descriptions=variables_and_descriptions, llm=gpt4, treatment=\"sleep_quality\", outcome=\"heart_rate_variability\")\n",
    "\n",
    "print(confounders_and_descriptions)"
   ]
  },
  {
   "cell_type": "code",
   "execution_count": 7,
   "metadata": {},
   "outputs": [
    {
     "data": {
      "text/html": [
       "<div id=\"guidance-stop-button-c0f23059-4d4a-41dc-818a-8de55ec03a2a\" style=\"cursor: pointer; margin: 0px; display: none; float: right; padding: 3px; border-radius: 4px 4px 4px 4px; border: 0px solid rgba(127, 127, 127, 1); padding-left: 10px; padding-right: 10px; font-size: 13px; background-color: rgba(127, 127, 127, 0.25);\">Stop program</div><div id=\"guidance-content-c0f23059-4d4a-41dc-818a-8de55ec03a2a\"><pre style='margin: 0px; padding: 0px; padding-left: 8px; margin-left: -8px; border-radius: 0px; border-left: 1px solid rgba(127, 127, 127, 0.2); white-space: pre-wrap; font-family: ColfaxAI, Arial; font-size: 15px; line-height: 23px;'><div style='display: flex; border-bottom: 1px solid rgba(127, 127, 127, 0.2); align-items: center;'><div style='flex: 0 0 80px; opacity: 0.5;'>system</div><div style='flex-grow: 1; padding: 5px; padding-top: 10px; padding-bottom: 10px; margin-top: 0px; white-space: pre-wrap; margin-bottom: 0px;'>You are a helpful assistant with expertise in causal inference. You will assist me in discovering the causal graph representing my dataset. \n",
       "        I will provide you with context about the dataset by showing you the the columns along with their associated descriptions.  \n",
       "        I will then specify a variable and ask you to identify its children (should it have any), where a child is another variable that is directly caused by the specified variable. Show your work and take it step by step to make sure that the variables you identify are indeed children of the specified variable.\n",
       "        ------------------------------------------\n",
       "        Input:\n",
       "\n",
       "            Dataset schema with descriptions\n",
       "                name_of_first_variable: Description of first variable.\n",
       "                name_of_second_variable: Description of second variable.\n",
       "                ...\n",
       "                name_of_nth_confounder: Description of nth variable.     \n",
       "\n",
       "            Selected variable     \n",
       "            Does selected_variable have any children present in the dataset?\n",
       "\n",
       "        Output (if the selected variable has (a) child(dren) present in the dataset):\n",
       "            &lt;child&gt;child_1&lt;/child&gt;&lt;explanation&gt;Explanation for why and how this varaible is child of the selected variable.&lt;/explanation&gt;\n",
       "            ...\n",
       "            &lt;child&gt;child_n&lt;/child&gt;&lt;explanation&gt;Explanation for why and how this varaible is child of the selected variable.&lt;/explanation&gt;\n",
       "\n",
       "        Output (if the selected variable does not have a child present in the dataset): \n",
       "            &lt;null&gt;</div></div><div style='display: flex; border-bottom: 1px solid rgba(127, 127, 127, 0.2); align-items: center;'><div style='flex: 0 0 80px; opacity: 0.5;'>user</div><div style='flex-grow: 1; padding: 5px; padding-top: 10px; padding-bottom: 10px; margin-top: 0px; white-space: pre-wrap; margin-bottom: 0px;'>Dataset schema with descriptions\n",
       "        <span style='background-color: rgba(0, 138.56128016, 250.76166089, 0.25); display: inline;' title='{{variables_and_descriptions}}'>{&#x27;sleep_quality&#x27;: &quot;A measure of the quality of an individual&#x27;s sleep. This could be a subjective assessment made by the individual or an objective measure based on factors such as sleep duration, interruptions, deep sleep duration etc.&quot;, &#x27;heart_rate_variability&#x27;: &quot;The variability in the time interval between successive heartbeats. It&#x27;s measured in milliseconds and is an indicator of the heart&#x27;s health and resilience.&quot;, &#x27;age&#x27;: &#x27;The &quot;age&quot; variable refers to the age of the individual or subject in the dataset, usually expressed in number of years.&#x27;, &#x27;health_status&#x27;: &quot;The current state or condition of the individual&#x27;s health, typically categorized as &#x27;excellent&#x27;, &#x27;good&#x27;, &#x27;fair&#x27;, or &#x27;poor&#x27;. This can also include specific health conditions if the dataset is more detailed.&quot;, &#x27;lifestyle_factors&#x27;: &#x27;A collection of behaviors and conditions chosen by the individual, such as diet, physical activity level, smoking or alcohol consumption, which can have a significant impact on their health.&#x27;, &#x27;caffeine_consumption&#x27;: &#x27;The amount of caffeine consumed by an individual, typically measured in milligrams per day. This could include caffeine from all sources such as coffee, tea, energy drinks, chocolate, and medications.&#x27;, &#x27;nutritional_status&#x27;: &quot;The classification of the individual&#x27;s overall health and wellbeing based on their dietary intake and nutrient levels. This could include categories such as malnourished, adequately nourished, or over-nourished.&quot;, &#x27;gender&#x27;: &#x27;The biological sex of the individual, typically categorized as male or female.&#x27;, &#x27;education_level&#x27;: &#x27;The highest level of education that the individual has completed. This can typically range from no formal education to various levels of primary, secondary, and tertiary education.&#x27;, &#x27;income_level&#x27;: &#x27;The monetary earnings of an individual within a specific period (weekly, monthly, annually), often categorized in ranges to represent different income brackets.&#x27;, &#x27;residential_area&#x27;: &#x27;The geographical location or neighborhood where the individual resides. This could be a categorical variable representing different regions (like urban, suburban, rural), or specific neighborhood names.&#x27;, &#x27;medication&#x27;: &#x27;The type of medication prescribed to the patient.&#x27;, &#x27;physical_activity_level&#x27;: &#x27;The level of physical activity the individual engages in, usually categorized into levels such as low, moderate, or high, based on frequency, duration, and intensity of their exercise or movement habits.&#x27;, &#x27;mental_stress_level&#x27;: &#x27;The subjective level of mental stress experienced by the individual, typically measured on a scale.&#x27;, &#x27;occupational_stress_level&#x27;: &#x27;The level of stress experienced by the individual related to their occupation, typically measured on a scale. Higher values indicate greater stress. This could be influenced by factors such as workload, job security, work-life balance, etc.&#x27;, &#x27;ambient_temperature&#x27;: &#x27;The surrounding temperature in the environment, measured in degrees (Celsius or Fahrenheit), at the time of data collection.&#x27;, &#x27;sleep_hygiene_practices&#x27;: &#x27;The regular habits and practices related to sleep that an individual follows, which can influence the quality and quantity of their sleep.&#x27;, &#x27;chronic_health_conditions&#x27;: &#x27;The presence of long-term health conditions in the individual, often represented as a binary value where &quot;1&quot; indicates the presence of one or more chronic health conditions and &quot;0&quot; indicates no chronic health conditions.&#x27;, &#x27;menstrual_cycle_phase&#x27;: &#x27;The stage of the menstrual cycle the female patient is in at the time of data collection. This could include phases such as menstruation, follicular phase, ovulation, or luteal phase.&#x27;}</span>\n",
       "\n",
       "        Does <span style='background-color: rgba(0, 138.56128016, 250.76166089, 0.25); display: inline;' title='{{variable}}'>menstrual_cycle_phase</span> have any children present in the dataset?</div></div><div style='display: flex; border-bottom: 1px solid rgba(127, 127, 127, 0.2); align-items: center;'><div style='flex: 0 0 80px; opacity: 0.5;'>assistant</div><div style='flex-grow: 1; padding: 5px; padding-top: 10px; padding-bottom: 10px; margin-top: 0px; white-space: pre-wrap; margin-bottom: 0px;'><span style='background-color: rgba(0, 165, 0, 0.25); opacity: 1.0; display: inline;' title='{{gen &#x27;children&#x27; temperature=0.7}}'>&lt;null&gt;</span></div></div></pre></div>\n",
       "<script type=\"text/javascript\">(()=>{var t={296:(t,e,n)=>{var i=NaN,o=\"[object Symbol]\",r=/^\\s+|\\s+$/g,a=/^[-+]0x[0-9a-f]+$/i,s=/^0b[01]+$/i,c=/^0o[0-7]+$/i,d=parseInt,u=\"object\"==typeof n.g&&n.g&&n.g.Object===Object&&n.g,l=\"object\"==typeof self&&self&&self.Object===Object&&self,f=u||l||Function(\"return this\")(),h=Object.prototype.toString,p=Math.max,m=Math.min,g=function(){return f.Date.now()};function b(t){var e=typeof t;return!!t&&(\"object\"==e||\"function\"==e)}function y(t){if(\"number\"==typeof t)return t;if(function(t){return\"symbol\"==typeof t||function(t){return!!t&&\"object\"==typeof t}(t)&&h.call(t)==o}(t))return i;if(b(t)){var e=\"function\"==typeof t.valueOf?t.valueOf():t;t=b(e)?e+\"\":e}if(\"string\"!=typeof t)return 0===t?t:+t;t=t.replace(r,\"\");var n=s.test(t);return n||c.test(t)?d(t.slice(2),n?2:8):a.test(t)?i:+t}t.exports=function(t,e,n){var i,o,r,a,s,c,d=0,u=!1,l=!1,f=!0;if(\"function\"!=typeof t)throw new TypeError(\"Expected a function\");function h(e){var n=i,r=o;return i=o=void 0,d=e,a=t.apply(r,n)}function v(t){var n=t-c;return void 0===c||n>=e||n<0||l&&t-d>=r}function _(){var t=g();if(v(t))return w(t);s=setTimeout(_,function(t){var n=e-(t-c);return l?m(n,r-(t-d)):n}(t))}function w(t){return s=void 0,f&&i?h(t):(i=o=void 0,a)}function j(){var t=g(),n=v(t);if(i=arguments,o=this,c=t,n){if(void 0===s)return function(t){return d=t,s=setTimeout(_,e),u?h(t):a}(c);if(l)return s=setTimeout(_,e),h(c)}return void 0===s&&(s=setTimeout(_,e)),a}return e=y(e)||0,b(n)&&(u=!!n.leading,r=(l=\"maxWait\"in n)?p(y(n.maxWait)||0,e):r,f=\"trailing\"in n?!!n.trailing:f),j.cancel=function(){void 0!==s&&clearTimeout(s),d=0,i=c=o=s=void 0},j.flush=function(){return void 0===s?a:w(g())},j}},777:t=>{var e,n,i=Math.max,o=(e=function(t,e){return function(t,e,n){if(\"function\"!=typeof t)throw new TypeError(\"Expected a function\");return setTimeout((function(){t.apply(void 0,n)}),1)}(t,0,e)},n=i(void 0===n?e.length-1:n,0),function(){for(var t=arguments,o=-1,r=i(t.length-n,0),a=Array(r);++o<r;)a[o]=t[n+o];o=-1;for(var s=Array(n+1);++o<n;)s[o]=t[o];return s[n]=a,function(t,e,n){switch(n.length){case 0:return t.call(e);case 1:return t.call(e,n[0]);case 2:return t.call(e,n[0],n[1]);case 3:return t.call(e,n[0],n[1],n[2])}return t.apply(e,n)}(e,this,s)});t.exports=o}},e={};function n(i){var o=e[i];if(void 0!==o)return o.exports;var r=e[i]={exports:{}};return t[i](r,r.exports,n),r.exports}n.n=t=>{var e=t&&t.__esModule?()=>t.default:()=>t;return n.d(e,{a:e}),e},n.d=(t,e)=>{for(var i in e)n.o(e,i)&&!n.o(t,i)&&Object.defineProperty(t,i,{enumerable:!0,get:e[i]})},n.g=function(){if(\"object\"==typeof globalThis)return globalThis;try{return this||new Function(\"return this\")()}catch(t){if(\"object\"==typeof window)return window}}(),n.o=(t,e)=>Object.prototype.hasOwnProperty.call(t,e),(()=>{\"use strict\";const t=t=>{const e=new Set;do{for(const n of Reflect.ownKeys(t))e.add([t,n])}while((t=Reflect.getPrototypeOf(t))&&t!==Object.prototype);return e};function e(e,{include:n,exclude:i}={}){const o=t=>{const e=e=>\"string\"==typeof e?t===e:e.test(t);return n?n.some(e):!i||!i.some(e)};for(const[n,i]of t(e.constructor.prototype)){if(\"constructor\"===i||!o(i))continue;const t=Reflect.getOwnPropertyDescriptor(n,i);t&&\"function\"==typeof t.value&&(e[i]=e[i].bind(e))}return e}var i=n(777),o=n.n(i),r=n(296),a=n.n(r);class s{constructor(t,n){e(this),this.interfaceId=t,this.callbackMap={},this.data={},this.pendingData={},this.jcomm=new c(\"guidance_interface_target_\"+this.interfaceId,this.updateData,\"open\"),this.debouncedSendPendingData500=a()(this.sendPendingData,500),this.debouncedSendPendingData1000=a()(this.sendPendingData,1e3),n&&o()(n)}send(t,e){this.addPendingData(t,e),this.sendPendingData()}sendEvent(t){for(const e of Object.keys(t))this.addPendingData(e,t[e]);this.sendPendingData()}debouncedSendEvent500(t){for(const e of Object.keys(t))this.addPendingData(e,t[e]);this.debouncedSendPendingData500()}debouncedSend500(t,e){this.addPendingData(t,e),this.debouncedSendPendingData500()}debouncedSend1000(t,e){this.addPendingData(t,e),this.debouncedSendPendingData1000()}addPendingData(t,e){Array.isArray(t)||(t=[t]);for(const n in t)this.pendingData[t[n]]=e}updateData(t){t=JSON.parse(t.data);for(const e in t)this.data[e]=t[e];for(const e in t)e in this.callbackMap&&this.callbackMap[e](this.data[e])}subscribe(t,e){this.callbackMap[t]=e,o()((e=>this.callbackMap[t](this.data[t])))}sendPendingData(){this.jcomm.send_data(this.pendingData),this.pendingData={}}}class c{constructor(t,e,n=\"open\"){this._fire_callback=this._fire_callback.bind(this),this._register=this._register.bind(this),this.jcomm=void 0,this.callback=e,void 0!==window.Jupyter?\"register\"===n?Jupyter.notebook.kernel.comm_manager.register_target(t,this._register):(this.jcomm=Jupyter.notebook.kernel.comm_manager.new_comm(t),this.jcomm.on_msg(this._fire_callback)):void 0!==window._mgr&&(\"register\"===n?window._mgr.widgetManager.proxyKernel.registerCommTarget(t,this._register):(this.jcomm=window._mgr.widgetManager.proxyKernel.createComm(t),this.jcomm.open({},\"\"),this.jcomm.onMsg=this._fire_callback))}send_data(t){void 0!==this.jcomm?this.jcomm.send(t):console.error(\"Jupyter comm module not yet loaded! So we can't send the message.\")}_register(t,e){this.jcomm=t,this.jcomm.on_msg(this._fire_callback)}_fire_callback(t){this.callback(t.content.data)}}class d{constructor(t,n){e(this),this.id=t,this.comm=new s(t),this.comm.subscribe(\"append\",this.appendData),this.comm.subscribe(\"replace\",this.replaceData),this.comm.subscribe(\"event\",this.eventOccurred),this.element=document.getElementById(\"guidance-content-\"+t),this.stop_button=document.getElementById(\"guidance-stop-button-\"+t),this.stop_button.onclick=()=>this.comm.send(\"event\",\"stop\")}appendData(t){t&&(this.stop_button.style.display=\"inline-block\",this.element.innerHTML+=t)}replaceData(t){t&&(this.stop_button.style.display=\"inline-block\",this.element.innerHTML=t)}eventOccurred(t){\"complete\"===t&&(this.stop_button.style.display=\"none\")}}window._guidanceDisplay=function(t,e){return new d(t,e)}})()})();; window._guidanceDisplay(\"c0f23059-4d4a-41dc-818a-8de55ec03a2a\");</script>"
      ]
     },
     "metadata": {},
     "output_type": "display_data"
    }
   ],
   "source": [
    "relevant_relationships_and_descriptions = model.suggest_variable_relationships(variables_and_descriptions=variables_and_descriptions, confounders_and_reasoning=confounders_and_descriptions, treatment=\"sleep_quality\", outcome=\"heart_rate_variability\", llm=gpt4)"
   ]
  },
  {
   "cell_type": "code",
   "execution_count": null,
   "metadata": {},
   "outputs": [],
   "source": []
  },
  {
   "cell_type": "code",
   "execution_count": null,
   "metadata": {},
   "outputs": [],
   "source": []
  }
 ],
 "metadata": {
  "kernelspec": {
   "display_name": "askwhy_venv",
   "language": "python",
   "name": "python3"
  },
  "language_info": {
   "codemirror_mode": {
    "name": "ipython",
    "version": 3
   },
   "file_extension": ".py",
   "mimetype": "text/x-python",
   "name": "python",
   "nbconvert_exporter": "python",
   "pygments_lexer": "ipython3",
   "version": "3.10.11"
  },
  "orig_nbformat": 4
 },
 "nbformat": 4,
 "nbformat_minor": 2
}
