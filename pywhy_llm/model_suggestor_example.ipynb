{
 "cells": [
  {
   "cell_type": "code",
   "execution_count": 1,
   "metadata": {},
   "outputs": [],
   "source": [
    "from model_suggestor import ModelSuggestor\n",
    "from typing import Dict, List, Tuple\n",
    "from dotenv import load_dotenv\n",
    "import guidance\n",
    "import os\n",
    "import re\n",
    "\n",
    "load_dotenv()\n",
    "\n",
    "api_key = os.getenv(\"api_key\")\n",
    "organization = os.getenv(\"organization\")\n",
    "\n",
    "# set the default language model used to execute guidance programs\n",
    "gpt4 = guidance.llms.OpenAI(api_key=api_key, organization=organization, model=\"gpt-4\")\n",
    "gpt3 = guidance.llms.OpenAI(api_key=api_key, organization=organization, model=\"gpt-3.5-turbo-16k\")\n",
    "davinci = guidance.llms.OpenAI(api_key=api_key, organization=organization, model=\"text-davinci-003\")\n",
    "davinci2 = guidance.llms.OpenAI(api_key=api_key, organization=organization, model=\"davinci\")"
   ]
  },
  {
   "cell_type": "code",
   "execution_count": 2,
   "metadata": {},
   "outputs": [],
   "source": [
    "modeler = ModelSuggestor()"
   ]
  },
  {
   "cell_type": "code",
   "execution_count": 4,
   "metadata": {},
   "outputs": [
    {
     "name": "stdout",
     "output_type": "stream",
     "text": [
      "sleep_quality: float64\n",
      "\n",
      "heart_rate_variability: float64\n",
      "\n",
      "age: float64\n",
      "\n",
      "health_status: float64\n",
      "\n",
      "lifestyle_factors: float64\n",
      "\n",
      "caffeine_consumption: float64\n",
      "\n",
      "nutritional_status: float64\n",
      "\n",
      "gender: float64\n",
      "\n",
      "education_level: float64\n",
      "\n",
      "income_level: float64\n",
      "\n",
      "residential_area: float64\n",
      "\n",
      "medication: float64\n",
      "\n",
      "physical_activity_level: float64\n",
      "\n",
      "mental_stress_level: float64\n",
      "\n",
      "occupational_stress_level: float64\n",
      "\n",
      "ambient_temperature: float64\n",
      "\n",
      "sleep_hygiene_practices: float64\n",
      "\n",
      "chronic_health_conditions: float64\n",
      "\n",
      "menstrual_cycle_phase: float64\n",
      "\n"
     ]
    }
   ],
   "source": [
    "import pandas as pd\n",
    "import numpy as np\n",
    "\n",
    "variable_names = [\n",
    "    \"sleep_quality\", \n",
    "    \"heart_rate_variability\", \n",
    "    \"age\", \n",
    "    \"income_level\", \n",
    "    \"residential_area\", \n",
    "    \"medication\", \n",
    "    \"physical_activity_level\", \n",
    "    \"mental_stress_level\", \n",
    "    \"occupational_stress_level\", \n",
    "    \"ambient_temperature\",\n",
    "    \"sleep_hygiene_practices\",\n",
    "    \"chronic_health_conditions\", \n",
    "    \"menstrual_cycle_phase\", \n",
    "    \"health_status\", \n",
    "    \"lifestyle_factors\", \n",
    "    \"caffeine_consumption\", \n",
    "    \"nutritional_status\", \n",
    "    \"gender\", \n",
    "    \"education_level\", \n",
    "]\n",
    "\n",
    "# Create an empty DataFrame with the specified column names\n",
    "df = pd.DataFrame(columns=variable_names)\n",
    "\n",
    "# # Generate some sample data\n",
    "# sample_data = np.random.randn(10, len(variable_names))\n",
    "\n",
    "# # Populate the DataFrame with the sample data\n",
    "# df = pd.DataFrame(sample_data, columns=variable_names)\n",
    "\n",
    "# Set the data type of each column to float\n",
    "df = df.astype(float)\n",
    "\n",
    "variables_and_datatypes : Dict[str, str] = {}\n",
    "\n",
    "# Iterate over the columns and their corresponding datatypes\n",
    "for column, datatype in df.items():\n",
    "    variables_and_datatypes[column] = datatype.dtype\n",
    "\n",
    "for key, value in variables_and_datatypes.items():\n",
    "    print(f\"{key}: {value}\\n\")"
   ]
  },
  {
   "cell_type": "code",
   "execution_count": 5,
   "metadata": {},
   "outputs": [
    {
     "data": {
      "text/plain": [
       "<dodiscover.context_builder.ContextBuilder at 0x1e8a2ff3400>"
      ]
     },
     "execution_count": 5,
     "metadata": {},
     "output_type": "execute_result"
    }
   ],
   "source": [
    "import dodiscover as dd\n",
    "\n",
    "context_builder = dd.make_context()\n",
    "context_builder.observed_variables(variables_and_datatypes)"
   ]
  },
  {
   "cell_type": "code",
   "execution_count": 6,
   "metadata": {},
   "outputs": [
    {
     "data": {
      "text/html": [
       "<div id=\"guidance-stop-button-7d9a6388-ac2b-433d-bdbf-bb2ec457766a\" style=\"cursor: pointer; margin: 0px; display: none; float: right; padding: 3px; border-radius: 4px 4px 4px 4px; border: 0px solid rgba(127, 127, 127, 1); padding-left: 10px; padding-right: 10px; font-size: 13px; background-color: rgba(127, 127, 127, 0.25);\">Stop program</div><div id=\"guidance-content-7d9a6388-ac2b-433d-bdbf-bb2ec457766a\"><pre style='margin: 0px; padding: 0px; padding-left: 8px; margin-left: -8px; border-radius: 0px; border-left: 1px solid rgba(127, 127, 127, 0.2); white-space: pre-wrap; font-family: ColfaxAI, Arial; font-size: 15px; line-height: 23px;'><div style='display: flex; border-bottom: 1px solid rgba(127, 127, 127, 0.2); align-items: center;'><div style='flex: 0 0 80px; opacity: 0.5;'>system</div><div style='flex-grow: 1; padding: 5px; padding-top: 10px; padding-bottom: 10px; margin-top: 0px; white-space: pre-wrap; margin-bottom: 0px;'>You are a helpful assistant with expertise in causal inference. You are helping me better understand a dataset by providing me with a description of the variables. I will provide you with the name of a column variable within the dataset and you will provide a description for that column variable. Let&#x27;s take it step by step to make sure the description is relevant, succinct, and clear. \n",
       "        Here is an example:\n",
       "        ------------------------------------------\n",
       "        variable_name\n",
       "        description\n",
       "        ------------------------------------------\n",
       "        age\n",
       "        The age of the patient in years.</div></div><div style='display: flex; border-bottom: 1px solid rgba(127, 127, 127, 0.2); align-items: center;'><div style='flex: 0 0 80px; opacity: 0.5;'>user</div><div style='flex-grow: 1; padding: 5px; padding-top: 10px; padding-bottom: 10px; margin-top: 0px; white-space: pre-wrap; margin-bottom: 0px;'><span style='background-color: rgba(0, 138.56128016, 250.76166089, 0.25); display: inline;' title='{{variable}}'>menstrual_cycle_phase</span></div></div><div style='display: flex; border-bottom: 1px solid rgba(127, 127, 127, 0.2); align-items: center;'><div style='flex: 0 0 80px; opacity: 0.5;'>assistant</div><div style='flex-grow: 1; padding: 5px; padding-top: 10px; padding-bottom: 10px; margin-top: 0px; white-space: pre-wrap; margin-bottom: 0px;'><span style='background-color: rgba(0, 165, 0, 0.25); opacity: 1.0; display: inline;' title='{{gen &#x27;description&#x27; temperature=0.7}}'>The stage of the menstrual cycle the female participant is currently in. This could include phases such as menstruation, follicular phase, ovulation, and luteal phase.</span></div></div></pre></div>\n",
       "<script type=\"text/javascript\">(()=>{var t={296:(t,e,n)=>{var i=NaN,o=\"[object Symbol]\",r=/^\\s+|\\s+$/g,a=/^[-+]0x[0-9a-f]+$/i,s=/^0b[01]+$/i,c=/^0o[0-7]+$/i,d=parseInt,u=\"object\"==typeof n.g&&n.g&&n.g.Object===Object&&n.g,l=\"object\"==typeof self&&self&&self.Object===Object&&self,f=u||l||Function(\"return this\")(),h=Object.prototype.toString,p=Math.max,m=Math.min,g=function(){return f.Date.now()};function b(t){var e=typeof t;return!!t&&(\"object\"==e||\"function\"==e)}function y(t){if(\"number\"==typeof t)return t;if(function(t){return\"symbol\"==typeof t||function(t){return!!t&&\"object\"==typeof t}(t)&&h.call(t)==o}(t))return i;if(b(t)){var e=\"function\"==typeof t.valueOf?t.valueOf():t;t=b(e)?e+\"\":e}if(\"string\"!=typeof t)return 0===t?t:+t;t=t.replace(r,\"\");var n=s.test(t);return n||c.test(t)?d(t.slice(2),n?2:8):a.test(t)?i:+t}t.exports=function(t,e,n){var i,o,r,a,s,c,d=0,u=!1,l=!1,f=!0;if(\"function\"!=typeof t)throw new TypeError(\"Expected a function\");function h(e){var n=i,r=o;return i=o=void 0,d=e,a=t.apply(r,n)}function v(t){var n=t-c;return void 0===c||n>=e||n<0||l&&t-d>=r}function _(){var t=g();if(v(t))return w(t);s=setTimeout(_,function(t){var n=e-(t-c);return l?m(n,r-(t-d)):n}(t))}function w(t){return s=void 0,f&&i?h(t):(i=o=void 0,a)}function j(){var t=g(),n=v(t);if(i=arguments,o=this,c=t,n){if(void 0===s)return function(t){return d=t,s=setTimeout(_,e),u?h(t):a}(c);if(l)return s=setTimeout(_,e),h(c)}return void 0===s&&(s=setTimeout(_,e)),a}return e=y(e)||0,b(n)&&(u=!!n.leading,r=(l=\"maxWait\"in n)?p(y(n.maxWait)||0,e):r,f=\"trailing\"in n?!!n.trailing:f),j.cancel=function(){void 0!==s&&clearTimeout(s),d=0,i=c=o=s=void 0},j.flush=function(){return void 0===s?a:w(g())},j}},777:t=>{var e,n,i=Math.max,o=(e=function(t,e){return function(t,e,n){if(\"function\"!=typeof t)throw new TypeError(\"Expected a function\");return setTimeout((function(){t.apply(void 0,n)}),1)}(t,0,e)},n=i(void 0===n?e.length-1:n,0),function(){for(var t=arguments,o=-1,r=i(t.length-n,0),a=Array(r);++o<r;)a[o]=t[n+o];o=-1;for(var s=Array(n+1);++o<n;)s[o]=t[o];return s[n]=a,function(t,e,n){switch(n.length){case 0:return t.call(e);case 1:return t.call(e,n[0]);case 2:return t.call(e,n[0],n[1]);case 3:return t.call(e,n[0],n[1],n[2])}return t.apply(e,n)}(e,this,s)});t.exports=o}},e={};function n(i){var o=e[i];if(void 0!==o)return o.exports;var r=e[i]={exports:{}};return t[i](r,r.exports,n),r.exports}n.n=t=>{var e=t&&t.__esModule?()=>t.default:()=>t;return n.d(e,{a:e}),e},n.d=(t,e)=>{for(var i in e)n.o(e,i)&&!n.o(t,i)&&Object.defineProperty(t,i,{enumerable:!0,get:e[i]})},n.g=function(){if(\"object\"==typeof globalThis)return globalThis;try{return this||new Function(\"return this\")()}catch(t){if(\"object\"==typeof window)return window}}(),n.o=(t,e)=>Object.prototype.hasOwnProperty.call(t,e),(()=>{\"use strict\";const t=t=>{const e=new Set;do{for(const n of Reflect.ownKeys(t))e.add([t,n])}while((t=Reflect.getPrototypeOf(t))&&t!==Object.prototype);return e};function e(e,{include:n,exclude:i}={}){const o=t=>{const e=e=>\"string\"==typeof e?t===e:e.test(t);return n?n.some(e):!i||!i.some(e)};for(const[n,i]of t(e.constructor.prototype)){if(\"constructor\"===i||!o(i))continue;const t=Reflect.getOwnPropertyDescriptor(n,i);t&&\"function\"==typeof t.value&&(e[i]=e[i].bind(e))}return e}var i=n(777),o=n.n(i),r=n(296),a=n.n(r);class s{constructor(t,n){e(this),this.interfaceId=t,this.callbackMap={},this.data={},this.pendingData={},this.jcomm=new c(\"guidance_interface_target_\"+this.interfaceId,this.updateData,\"open\"),this.debouncedSendPendingData500=a()(this.sendPendingData,500),this.debouncedSendPendingData1000=a()(this.sendPendingData,1e3),n&&o()(n)}send(t,e){this.addPendingData(t,e),this.sendPendingData()}sendEvent(t){for(const e of Object.keys(t))this.addPendingData(e,t[e]);this.sendPendingData()}debouncedSendEvent500(t){for(const e of Object.keys(t))this.addPendingData(e,t[e]);this.debouncedSendPendingData500()}debouncedSend500(t,e){this.addPendingData(t,e),this.debouncedSendPendingData500()}debouncedSend1000(t,e){this.addPendingData(t,e),this.debouncedSendPendingData1000()}addPendingData(t,e){Array.isArray(t)||(t=[t]);for(const n in t)this.pendingData[t[n]]=e}updateData(t){t=JSON.parse(t.data);for(const e in t)this.data[e]=t[e];for(const e in t)e in this.callbackMap&&this.callbackMap[e](this.data[e])}subscribe(t,e){this.callbackMap[t]=e,o()((e=>this.callbackMap[t](this.data[t])))}sendPendingData(){this.jcomm.send_data(this.pendingData),this.pendingData={}}}class c{constructor(t,e,n=\"open\"){this._fire_callback=this._fire_callback.bind(this),this._register=this._register.bind(this),this.jcomm=void 0,this.callback=e,void 0!==window.Jupyter?\"register\"===n?Jupyter.notebook.kernel.comm_manager.register_target(t,this._register):(this.jcomm=Jupyter.notebook.kernel.comm_manager.new_comm(t),this.jcomm.on_msg(this._fire_callback)):void 0!==window._mgr&&(\"register\"===n?window._mgr.widgetManager.proxyKernel.registerCommTarget(t,this._register):(this.jcomm=window._mgr.widgetManager.proxyKernel.createComm(t),this.jcomm.open({},\"\"),this.jcomm.onMsg=this._fire_callback))}send_data(t){void 0!==this.jcomm?this.jcomm.send(t):console.error(\"Jupyter comm module not yet loaded! So we can't send the message.\")}_register(t,e){this.jcomm=t,this.jcomm.on_msg(this._fire_callback)}_fire_callback(t){this.callback(t.content.data)}}class d{constructor(t,n){e(this),this.id=t,this.comm=new s(t),this.comm.subscribe(\"append\",this.appendData),this.comm.subscribe(\"replace\",this.replaceData),this.comm.subscribe(\"event\",this.eventOccurred),this.element=document.getElementById(\"guidance-content-\"+t),this.stop_button=document.getElementById(\"guidance-stop-button-\"+t),this.stop_button.onclick=()=>this.comm.send(\"event\",\"stop\")}appendData(t){t&&(this.stop_button.style.display=\"inline-block\",this.element.innerHTML+=t)}replaceData(t){t&&(this.stop_button.style.display=\"inline-block\",this.element.innerHTML=t)}eventOccurred(t){\"complete\"===t&&(this.stop_button.style.display=\"none\")}}window._guidanceDisplay=function(t,e){return new d(t,e)}})()})();; window._guidanceDisplay(\"7d9a6388-ac2b-433d-bdbf-bb2ec457766a\");</script>"
      ]
     },
     "metadata": {},
     "output_type": "display_data"
    }
   ],
   "source": [
    "variables_and_descriptions = modeler.suggest_descriptions(variable_names=variable_names, llm=gpt4)"
   ]
  },
  {
   "cell_type": "code",
   "execution_count": 7,
   "metadata": {},
   "outputs": [
    {
     "data": {
      "text/plain": [
       "<dodiscover.context_builder.ContextBuilder at 0x1e8a2ff3400>"
      ]
     },
     "execution_count": 7,
     "metadata": {},
     "output_type": "execute_result"
    }
   ],
   "source": [
    "context_builder.observed_variables_descriptions(variables_and_descriptions)"
   ]
  },
  {
   "cell_type": "code",
   "execution_count": 8,
   "metadata": {},
   "outputs": [
    {
     "name": "stdout",
     "output_type": "stream",
     "text": [
      "sleep_quality: The subjective rating of the individual's quality of sleep, typically measured on a scale (for example 1-5, with 1 being poor quality and 5 being excellent).\n",
      "heart_rate_variability: The variability in the time interval between consecutive heartbeats in milliseconds. This can be used as a measure of the body's autonomic nervous system function and stress level.\n",
      "age: The age of the individual or subject in the dataset, typically measured in years.\n",
      "health_status: The overall health condition of the individual, often categorized as 'excellent', 'good', 'fair', or 'poor'.\n",
      "lifestyle_factors: The lifestyle_factors column represents various lifestyle behaviors or conditions of the individual that may impact their health. These can include factors like smoking, alcohol consumption, physical activity level, diet, sleep patterns, etc.\n",
      "caffeine_consumption: The amount of caffeine, typically measured in milligrams, consumed by the individual on a daily basis. This could include caffeine from all sources such as coffee, tea, chocolate, energy drinks, and certain medications.\n",
      "nutritional_status: The nutritional status of the individual, typically categorized as underweight, normal weight, overweight, or obese, based on body mass index (BMI) or other relevant measures.\n",
      "gender: The biological sex of the individual, typically categorized as male or female.\n",
      "education_level: The highest level of education attained by the individual, usually categorized into groups such as high school, college, post-graduate, etc.\n",
      "income_level: The income level of the individual, typically categorized into ranges like low, middle, and high, based on their total annual income.\n",
      "residential_area: The residential area where the individual or subject of the study lives, typically categorized by urban, suburban, or rural settings.\n",
      "medication: The type or name of the medication that the patient is currently taking or has been prescribed.\n",
      "physical_activity_level: The level of physical activity performed by the individual, often categorized into levels such as low, moderate, or high. This could be based on frequency, duration, and intensity of physical activities that the individual engages in.\n",
      "mental_stress_level: The level of mental stress experienced by the individual, often measured on a numeric scale (e.g., 1-10 or 1-100), where higher numbers represent higher levels of stress.\n",
      "occupational_stress_level: The level of stress experienced by the individual due to their occupation, typically measured on a scale.\n",
      "ambient_temperature: The surrounding temperature of the environment measured in degrees Celsius or Fahrenheit.\n",
      "sleep_hygiene_practices: The habits and behaviors related to the individual's sleep quality and duration, which may include bedtime routine, sleep schedule, and sleep environment.\n",
      "chronic_health_conditions: The number or type of long-term health conditions that the individual has, such as diabetes, heart disease, or cancer. These conditions typically require ongoing management over a period of years or decades.\n",
      "menstrual_cycle_phase: The stage of the menstrual cycle the female participant is currently in. This could include phases such as menstruation, follicular phase, ovulation, and luteal phase.\n"
     ]
    }
   ],
   "source": [
    "for variable, description in variables_and_descriptions.items():\n",
    "    print(f\"{variable}: {description}\")"
   ]
  },
  {
   "cell_type": "code",
   "execution_count": 9,
   "metadata": {},
   "outputs": [],
   "source": [
    "treatment=\"sleep_quality\"\n",
    "outcome=\"heart_rate_variability\""
   ]
  },
  {
   "cell_type": "code",
   "execution_count": 10,
   "metadata": {},
   "outputs": [
    {
     "data": {
      "text/html": [
       "<div id=\"guidance-stop-button-ab150348-9b1c-4265-9fa8-fe51f30fe507\" style=\"cursor: pointer; margin: 0px; display: none; float: right; padding: 3px; border-radius: 4px 4px 4px 4px; border: 0px solid rgba(127, 127, 127, 1); padding-left: 10px; padding-right: 10px; font-size: 13px; background-color: rgba(127, 127, 127, 0.25);\">Stop program</div><div id=\"guidance-content-ab150348-9b1c-4265-9fa8-fe51f30fe507\"><pre style='margin: 0px; padding: 0px; padding-left: 8px; margin-left: -8px; border-radius: 0px; border-left: 1px solid rgba(127, 127, 127, 0.2); white-space: pre-wrap; font-family: ColfaxAI, Arial; font-size: 15px; line-height: 23px;'><div style='display: flex; border-bottom: 1px solid rgba(127, 127, 127, 0.2); align-items: center;'><div style='flex: 0 0 80px; opacity: 0.5;'>system</div><div style='flex-grow: 1; padding: 5px; padding-top: 10px; padding-bottom: 10px; margin-top: 0px; white-space: pre-wrap; margin-bottom: 0px;'>You are a knowledgeable assistant with expertise in causal inference, dedicated to helping identify unobserved confounders, also known as latent confounders, that are not explicitly included in my dataset. These latent confounders are variables that are not directly observed or measured but could have a significant influence on the relationship between the treatment and outcome variables of interest. To begin, I will provide you with a comprehensive overview of the dataset, including all available columns, their respective data types, and descriptions. Additionally, I will specify the treatment and outcome variables for analysis.\n",
       "\n",
       "        In the context of causal inference, a latent confounder refers to a variable that is not explicitly present in the dataset but is a potential common cause of both the treatment and outcome variables. It is a hidden factor that can affect both the treatment assignment and the outcome measurement, leading to biased estimates if not properly accounted for.\n",
       "\n",
       "        When suggesting latent confounders, it is important to consider whether there might already be another variable in the dataset that closely resembles the latent confounder being suggested. If so, it is important to explain why the suggested latent confounder is different from the existing variable and why it is still important to consider it as a potential confounder.\n",
       "\n",
       "        Your expertise in causal inference will be crucial in suggesting these latent confounders, being specific about their nature and measurement, and explaining how they may impact the causal relationship between the treatment and outcome variables. By identifying and considering these hidden confounding factors accurately, we can improve the validity and accuracy of our causal analysis, gaining deeper insights into the true causal effects\n",
       "        ------------------------------------------\n",
       "        Input:\n",
       "            Dataset schema with descriptions\n",
       "                name_of_first_variable: Description of first variable.\n",
       "                name_of_second_variable: Description of second variable.\n",
       "                ...\n",
       "                name_of_nth_confounder: Description of nth variable.     \n",
       "\n",
       "            treatment\n",
       "                treatment_variable_name\n",
       "\n",
       "            outcome\n",
       "                outcome_variable_name \n",
       "\n",
       "        Output: \n",
       "            &lt;latent_confounder&gt;name_of_first_latent_confounder&lt;/latent_confounder&gt;\n",
       "            &lt;description&gt;Description of first latent confounder.&lt;/description&gt;\n",
       "            &lt;explanation&gt;Explanation for how first latent confounder influences the causal relationship between treatment and outcome variable.&lt;/explanation&gt;\n",
       "\n",
       "            &lt;latent_confounder&gt;name_of_second_latent_confounder&lt;/latent_confounder&gt;\n",
       "            &lt;description&gt;Description of second latent confounder.&lt;/description&gt;\n",
       "            &lt;explanation&gt;Explanation for how second latent confounder influences the causal relationship between treatment and outcome variable.&lt;/explanation&gt;    \n",
       "\n",
       "            ...\n",
       "\n",
       "            &lt;confounder&gt;name_of_nth_confounder&lt;/confounder&gt;\n",
       "            &lt;description&gt;Description of nth latent confounder.&lt;/description&gt;\n",
       "            &lt;explanation&gt;Explanation for how nth latent confounder influences the causal relationship between treatment and outcome variable.&lt;/explanation&gt;</div></div><div style='display: flex; border-bottom: 1px solid rgba(127, 127, 127, 0.2); align-items: center;'><div style='flex: 0 0 80px; opacity: 0.5;'>user</div><div style='flex-grow: 1; padding: 5px; padding-top: 10px; padding-bottom: 10px; margin-top: 0px; white-space: pre-wrap; margin-bottom: 0px;'>Dataset schema with descriptions\n",
       "        <span style='background-color: rgba(0, 138.56128016, 250.76166089, 0.25); display: inline;' title='{{variables_and_descriptions}}'>{&#x27;sleep_quality&#x27;: &quot;The subjective rating of the individual&#x27;s quality of sleep, typically measured on a scale (for example 1-5, with 1 being poor quality and 5 being excellent).&quot;, &#x27;heart_rate_variability&#x27;: &quot;The variability in the time interval between consecutive heartbeats in milliseconds. This can be used as a measure of the body&#x27;s autonomic nervous system function and stress level.&quot;, &#x27;age&#x27;: &#x27;The age of the individual or subject in the dataset, typically measured in years.&#x27;, &#x27;health_status&#x27;: &quot;The overall health condition of the individual, often categorized as &#x27;excellent&#x27;, &#x27;good&#x27;, &#x27;fair&#x27;, or &#x27;poor&#x27;.&quot;, &#x27;lifestyle_factors&#x27;: &#x27;The lifestyle_factors column represents various lifestyle behaviors or conditions of the individual that may impact their health. These can include factors like smoking, alcohol consumption, physical activity level, diet, sleep patterns, etc.&#x27;, &#x27;caffeine_consumption&#x27;: &#x27;The amount of caffeine, typically measured in milligrams, consumed by the individual on a daily basis. This could include caffeine from all sources such as coffee, tea, chocolate, energy drinks, and certain medications.&#x27;, &#x27;nutritional_status&#x27;: &#x27;The nutritional status of the individual, typically categorized as underweight, normal weight, overweight, or obese, based on body mass index (BMI) or other relevant measures.&#x27;, &#x27;gender&#x27;: &#x27;The biological sex of the individual, typically categorized as male or female.&#x27;, &#x27;education_level&#x27;: &#x27;The highest level of education attained by the individual, usually categorized into groups such as high school, college, post-graduate, etc.&#x27;, &#x27;income_level&#x27;: &#x27;The income level of the individual, typically categorized into ranges like low, middle, and high, based on their total annual income.&#x27;, &#x27;residential_area&#x27;: &#x27;The residential area where the individual or subject of the study lives, typically categorized by urban, suburban, or rural settings.&#x27;, &#x27;medication&#x27;: &#x27;The type or name of the medication that the patient is currently taking or has been prescribed.&#x27;, &#x27;physical_activity_level&#x27;: &#x27;The level of physical activity performed by the individual, often categorized into levels such as low, moderate, or high. This could be based on frequency, duration, and intensity of physical activities that the individual engages in.&#x27;, &#x27;mental_stress_level&#x27;: &#x27;The level of mental stress experienced by the individual, often measured on a numeric scale (e.g., 1-10 or 1-100), where higher numbers represent higher levels of stress.&#x27;, &#x27;occupational_stress_level&#x27;: &#x27;The level of stress experienced by the individual due to their occupation, typically measured on a scale.&#x27;, &#x27;ambient_temperature&#x27;: &#x27;The surrounding temperature of the environment measured in degrees Celsius or Fahrenheit.&#x27;, &#x27;sleep_hygiene_practices&#x27;: &quot;The habits and behaviors related to the individual&#x27;s sleep quality and duration, which may include bedtime routine, sleep schedule, and sleep environment.&quot;, &#x27;chronic_health_conditions&#x27;: &#x27;The number or type of long-term health conditions that the individual has, such as diabetes, heart disease, or cancer. These conditions typically require ongoing management over a period of years or decades.&#x27;, &#x27;menstrual_cycle_phase&#x27;: &#x27;The stage of the menstrual cycle the female participant is currently in. This could include phases such as menstruation, follicular phase, ovulation, and luteal phase.&#x27;}</span>\n",
       "\n",
       "        Treatment: <span style='background-color: rgba(0, 138.56128016, 250.76166089, 0.25); display: inline;' title='{{treatment}}'>sleep_quality</span>\n",
       "        Outcome: <span style='background-color: rgba(0, 138.56128016, 250.76166089, 0.25); display: inline;' title='{{outcome}}'>heart_rate_variability</span>\n",
       "\n",
       "        What latent or unobserved confounders (if any at all) are influencing the causal relationship between <span style='background-color: rgba(0, 138.56128016, 250.76166089, 0.25); display: inline;' title='{{treatment}}'>sleep_quality</span> and <span style='background-color: rgba(0, 138.56128016, 250.76166089, 0.25); display: inline;' title='{{outcome}}'>heart_rate_variability</span>?</div></div><div style='display: flex; border-bottom: 1px solid rgba(127, 127, 127, 0.2); align-items: center;'><div style='flex: 0 0 80px; opacity: 0.5;'>assistant</div><div style='flex-grow: 1; padding: 5px; padding-top: 10px; padding-bottom: 10px; margin-top: 0px; white-space: pre-wrap; margin-bottom: 0px;'><span style='background-color: rgba(0, 165, 0, 0.25); opacity: 1.0; display: inline;' title='{{gen &#x27;latent_confounder_explanation&#x27; temperature=0.7}}'>&lt;latent_confounder&gt;genetic_factors&lt;/latent_confounder&gt;\n",
       "&lt;description&gt;Individual genetic factors such as predisposition to certain health conditions, metabolism rate, or inherent sleep patterns can influence both sleep quality and heart rate variability. These factors are not directly observed in the dataset but can significantly influence both variables.&lt;/description&gt;\n",
       "&lt;explanation&gt;Genetic factors could affect sleep quality by predisposing an individual to certain sleep disorders or influencing natural sleep patterns. These same genetic factors could also affect heart rate variability by influencing metabolic rate, inherent stress levels, or susceptibility to certain heart conditions. If not accounted for, these unobserved genetic factors could confound the relationship between sleep quality and heart rate variability.&lt;/explanation&gt;\n",
       "\n",
       "&lt;latent_confounder&gt;stressors_not_captured_in_dataset&lt;/latent_confounder&gt;\n",
       "&lt;description&gt;There may be sources of stress not captured in the dataset, such as personal relationship stress, financial stress, or other life events, which can affect both sleep quality and heart rate variability.&lt;/description&gt;\n",
       "&lt;explanation&gt;These unobserved stressors could reduce sleep quality by causing worry or anxiety that prevents restful sleep. Simultaneously, these stressors could increase heart rate variability by causing the body to be in a state of heightened stress or alertness. Without accounting for these latent stressors, the relationship between sleep quality and heart rate variability may be confounded.&lt;/explanation&gt;\n",
       "\n",
       "&lt;latent_confounder&gt;circadian_rhythm_disorders&lt;/latent_confounder&gt;\n",
       "&lt;description&gt;Individuals may have undiagnosed circadian rhythm disorders, which are disruptions in a person&#x27;s &quot;internal body clock&quot; that regulate sleep-wake cycles and can influence sleep quality and heart rate variability.&lt;/description&gt;\n",
       "&lt;explanation&gt;Circadian rhythm disorders could lead to poor sleep quality due to disturbed sleep-wake cycles. These disorders could also affect heart rate variability as the circadian rhythm influences various physiological processes, including heart function. If not accounted for, these disorders could confound the relationship between sleep quality and heart rate variability.&lt;/explanation&gt;\n",
       "\n",
       "&lt;latent_confounder&gt;undiagnosed_medical_conditions&lt;/latent_confounder&gt;\n",
       "&lt;description&gt;Individuals may have undiagnosed medical conditions, such as sleep apnea or heart disease, that can influence both sleep quality and heart rate variability.&lt;/description&gt;\n",
       "&lt;explanation&gt;Undiagnosed medical conditions such as sleep apnea could lead to poor sleep quality due to interrupted sleep. Similarly, conditions like heart disease</span></div></div></pre></div>\n",
       "<script type=\"text/javascript\">(()=>{var t={296:(t,e,n)=>{var i=NaN,o=\"[object Symbol]\",r=/^\\s+|\\s+$/g,a=/^[-+]0x[0-9a-f]+$/i,s=/^0b[01]+$/i,c=/^0o[0-7]+$/i,d=parseInt,u=\"object\"==typeof n.g&&n.g&&n.g.Object===Object&&n.g,l=\"object\"==typeof self&&self&&self.Object===Object&&self,f=u||l||Function(\"return this\")(),h=Object.prototype.toString,p=Math.max,m=Math.min,g=function(){return f.Date.now()};function b(t){var e=typeof t;return!!t&&(\"object\"==e||\"function\"==e)}function y(t){if(\"number\"==typeof t)return t;if(function(t){return\"symbol\"==typeof t||function(t){return!!t&&\"object\"==typeof t}(t)&&h.call(t)==o}(t))return i;if(b(t)){var e=\"function\"==typeof t.valueOf?t.valueOf():t;t=b(e)?e+\"\":e}if(\"string\"!=typeof t)return 0===t?t:+t;t=t.replace(r,\"\");var n=s.test(t);return n||c.test(t)?d(t.slice(2),n?2:8):a.test(t)?i:+t}t.exports=function(t,e,n){var i,o,r,a,s,c,d=0,u=!1,l=!1,f=!0;if(\"function\"!=typeof t)throw new TypeError(\"Expected a function\");function h(e){var n=i,r=o;return i=o=void 0,d=e,a=t.apply(r,n)}function v(t){var n=t-c;return void 0===c||n>=e||n<0||l&&t-d>=r}function _(){var t=g();if(v(t))return w(t);s=setTimeout(_,function(t){var n=e-(t-c);return l?m(n,r-(t-d)):n}(t))}function w(t){return s=void 0,f&&i?h(t):(i=o=void 0,a)}function j(){var t=g(),n=v(t);if(i=arguments,o=this,c=t,n){if(void 0===s)return function(t){return d=t,s=setTimeout(_,e),u?h(t):a}(c);if(l)return s=setTimeout(_,e),h(c)}return void 0===s&&(s=setTimeout(_,e)),a}return e=y(e)||0,b(n)&&(u=!!n.leading,r=(l=\"maxWait\"in n)?p(y(n.maxWait)||0,e):r,f=\"trailing\"in n?!!n.trailing:f),j.cancel=function(){void 0!==s&&clearTimeout(s),d=0,i=c=o=s=void 0},j.flush=function(){return void 0===s?a:w(g())},j}},777:t=>{var e,n,i=Math.max,o=(e=function(t,e){return function(t,e,n){if(\"function\"!=typeof t)throw new TypeError(\"Expected a function\");return setTimeout((function(){t.apply(void 0,n)}),1)}(t,0,e)},n=i(void 0===n?e.length-1:n,0),function(){for(var t=arguments,o=-1,r=i(t.length-n,0),a=Array(r);++o<r;)a[o]=t[n+o];o=-1;for(var s=Array(n+1);++o<n;)s[o]=t[o];return s[n]=a,function(t,e,n){switch(n.length){case 0:return t.call(e);case 1:return t.call(e,n[0]);case 2:return t.call(e,n[0],n[1]);case 3:return t.call(e,n[0],n[1],n[2])}return t.apply(e,n)}(e,this,s)});t.exports=o}},e={};function n(i){var o=e[i];if(void 0!==o)return o.exports;var r=e[i]={exports:{}};return t[i](r,r.exports,n),r.exports}n.n=t=>{var e=t&&t.__esModule?()=>t.default:()=>t;return n.d(e,{a:e}),e},n.d=(t,e)=>{for(var i in e)n.o(e,i)&&!n.o(t,i)&&Object.defineProperty(t,i,{enumerable:!0,get:e[i]})},n.g=function(){if(\"object\"==typeof globalThis)return globalThis;try{return this||new Function(\"return this\")()}catch(t){if(\"object\"==typeof window)return window}}(),n.o=(t,e)=>Object.prototype.hasOwnProperty.call(t,e),(()=>{\"use strict\";const t=t=>{const e=new Set;do{for(const n of Reflect.ownKeys(t))e.add([t,n])}while((t=Reflect.getPrototypeOf(t))&&t!==Object.prototype);return e};function e(e,{include:n,exclude:i}={}){const o=t=>{const e=e=>\"string\"==typeof e?t===e:e.test(t);return n?n.some(e):!i||!i.some(e)};for(const[n,i]of t(e.constructor.prototype)){if(\"constructor\"===i||!o(i))continue;const t=Reflect.getOwnPropertyDescriptor(n,i);t&&\"function\"==typeof t.value&&(e[i]=e[i].bind(e))}return e}var i=n(777),o=n.n(i),r=n(296),a=n.n(r);class s{constructor(t,n){e(this),this.interfaceId=t,this.callbackMap={},this.data={},this.pendingData={},this.jcomm=new c(\"guidance_interface_target_\"+this.interfaceId,this.updateData,\"open\"),this.debouncedSendPendingData500=a()(this.sendPendingData,500),this.debouncedSendPendingData1000=a()(this.sendPendingData,1e3),n&&o()(n)}send(t,e){this.addPendingData(t,e),this.sendPendingData()}sendEvent(t){for(const e of Object.keys(t))this.addPendingData(e,t[e]);this.sendPendingData()}debouncedSendEvent500(t){for(const e of Object.keys(t))this.addPendingData(e,t[e]);this.debouncedSendPendingData500()}debouncedSend500(t,e){this.addPendingData(t,e),this.debouncedSendPendingData500()}debouncedSend1000(t,e){this.addPendingData(t,e),this.debouncedSendPendingData1000()}addPendingData(t,e){Array.isArray(t)||(t=[t]);for(const n in t)this.pendingData[t[n]]=e}updateData(t){t=JSON.parse(t.data);for(const e in t)this.data[e]=t[e];for(const e in t)e in this.callbackMap&&this.callbackMap[e](this.data[e])}subscribe(t,e){this.callbackMap[t]=e,o()((e=>this.callbackMap[t](this.data[t])))}sendPendingData(){this.jcomm.send_data(this.pendingData),this.pendingData={}}}class c{constructor(t,e,n=\"open\"){this._fire_callback=this._fire_callback.bind(this),this._register=this._register.bind(this),this.jcomm=void 0,this.callback=e,void 0!==window.Jupyter?\"register\"===n?Jupyter.notebook.kernel.comm_manager.register_target(t,this._register):(this.jcomm=Jupyter.notebook.kernel.comm_manager.new_comm(t),this.jcomm.on_msg(this._fire_callback)):void 0!==window._mgr&&(\"register\"===n?window._mgr.widgetManager.proxyKernel.registerCommTarget(t,this._register):(this.jcomm=window._mgr.widgetManager.proxyKernel.createComm(t),this.jcomm.open({},\"\"),this.jcomm.onMsg=this._fire_callback))}send_data(t){void 0!==this.jcomm?this.jcomm.send(t):console.error(\"Jupyter comm module not yet loaded! So we can't send the message.\")}_register(t,e){this.jcomm=t,this.jcomm.on_msg(this._fire_callback)}_fire_callback(t){this.callback(t.content.data)}}class d{constructor(t,n){e(this),this.id=t,this.comm=new s(t),this.comm.subscribe(\"append\",this.appendData),this.comm.subscribe(\"replace\",this.replaceData),this.comm.subscribe(\"event\",this.eventOccurred),this.element=document.getElementById(\"guidance-content-\"+t),this.stop_button=document.getElementById(\"guidance-stop-button-\"+t),this.stop_button.onclick=()=>this.comm.send(\"event\",\"stop\")}appendData(t){t&&(this.stop_button.style.display=\"inline-block\",this.element.innerHTML+=t)}replaceData(t){t&&(this.stop_button.style.display=\"inline-block\",this.element.innerHTML=t)}eventOccurred(t){\"complete\"===t&&(this.stop_button.style.display=\"none\")}}window._guidanceDisplay=function(t,e){return new d(t,e)}})()})();; window._guidanceDisplay(\"ab150348-9b1c-4265-9fa8-fe51f30fe507\");</script>"
      ]
     },
     "metadata": {},
     "output_type": "display_data"
    }
   ],
   "source": [
    "(latent_variables_descriptions, latent_variables_explanation) = modeler.suggest_latent_confounders(variables_and_descriptions=variables_and_descriptions, treatment=treatment, outcome=outcome, llm=gpt4)"
   ]
  },
  {
   "cell_type": "code",
   "execution_count": 11,
   "metadata": {},
   "outputs": [
    {
     "name": "stdout",
     "output_type": "stream",
     "text": [
      "genetic_factors: Individual genetic factors such as predisposition to certain health conditions, metabolism rate, or inherent sleep patterns can influence both sleep quality and heart rate variability. These factors are not directly observed in the dataset but can significantly influence both variables.\n",
      "stressors_not_captured_in_dataset: There may be sources of stress not captured in the dataset, such as personal relationship stress, financial stress, or other life events, which can affect both sleep quality and heart rate variability.\n",
      "circadian_rhythm_disorders: Individuals may have undiagnosed circadian rhythm disorders, which are disruptions in a person's \"internal body clock\" that regulate sleep-wake cycles and can influence sleep quality and heart rate variability.\n",
      "undiagnosed_medical_conditions: Individuals may have undiagnosed medical conditions, such as sleep apnea or heart disease, that can influence both sleep quality and heart rate variability.\n"
     ]
    }
   ],
   "source": [
    "for confounder, description in latent_variables_descriptions.items():\n",
    "    print(f\"{confounder}: {description}\")"
   ]
  },
  {
   "cell_type": "code",
   "execution_count": 12,
   "metadata": {},
   "outputs": [
    {
     "name": "stdout",
     "output_type": "stream",
     "text": [
      "genetic_factors: Genetic factors could affect sleep quality by predisposing an individual to certain sleep disorders or influencing natural sleep patterns. These same genetic factors could also affect heart rate variability by influencing metabolic rate, inherent stress levels, or susceptibility to certain heart conditions. If not accounted for, these unobserved genetic factors could confound the relationship between sleep quality and heart rate variability.\n",
      "stressors_not_captured_in_dataset: These unobserved stressors could reduce sleep quality by causing worry or anxiety that prevents restful sleep. Simultaneously, these stressors could increase heart rate variability by causing the body to be in a state of heightened stress or alertness. Without accounting for these latent stressors, the relationship between sleep quality and heart rate variability may be confounded.\n",
      "circadian_rhythm_disorders: Circadian rhythm disorders could lead to poor sleep quality due to disturbed sleep-wake cycles. These disorders could also affect heart rate variability as the circadian rhythm influences various physiological processes, including heart function. If not accounted for, these disorders could confound the relationship between sleep quality and heart rate variability.\n"
     ]
    }
   ],
   "source": [
    "for confounder, explanation in latent_variables_explanation.items():\n",
    "    print(f\"{confounder}: {explanation}\")"
   ]
  },
  {
   "cell_type": "code",
   "execution_count": 13,
   "metadata": {},
   "outputs": [
    {
     "data": {
      "text/html": [
       "<div id=\"guidance-stop-button-23d784af-5fd5-4479-9f99-dc2c096a90ef\" style=\"cursor: pointer; margin: 0px; display: none; float: right; padding: 3px; border-radius: 4px 4px 4px 4px; border: 0px solid rgba(127, 127, 127, 1); padding-left: 10px; padding-right: 10px; font-size: 13px; background-color: rgba(127, 127, 127, 0.25);\">Stop program</div><div id=\"guidance-content-23d784af-5fd5-4479-9f99-dc2c096a90ef\"><pre style='margin: 0px; padding: 0px; padding-left: 8px; margin-left: -8px; border-radius: 0px; border-left: 1px solid rgba(127, 127, 127, 0.2); white-space: pre-wrap; font-family: ColfaxAI, Arial; font-size: 15px; line-height: 23px;'><div style='display: flex; border-bottom: 1px solid rgba(127, 127, 127, 0.2); align-items: center;'><div style='flex: 0 0 80px; opacity: 0.5;'>system</div><div style='flex-grow: 1; padding: 5px; padding-top: 10px; padding-bottom: 10px; margin-top: 0px; white-space: pre-wrap; margin-bottom: 0px;'>You are a helpful assistant with expertise in causal inference. I will provide you with context about the dataset by showing you all the columns and their associated descriptions. You will then go varaible by variable and explain whether the variable is confounding the relationship between the treatment and the outcome and categorize it appropriately. Where a confounder is a common cause of both the treatment and the outcome. In essence, a confounder directly causes both the treatment and the outcome. \n",
       "        ------------------------------------------\n",
       "        Input:\n",
       "            treatment\n",
       "                treatment_variable_name\n",
       "                description of treatment_variable\n",
       "\n",
       "            outcome\n",
       "                outcome_variable_name\n",
       "                description of outcome_variable\n",
       "\n",
       "            Dataset schema with descriptions\n",
       "                name_of_first_variable: Description of first variable.\n",
       "                name_of_second_variable: Description of second variable.\n",
       "                ...\n",
       "                name_of_nth_confounder: Description of nth variable.          \n",
       "\n",
       "        Output: \n",
       "            &lt;confounder&gt;name_of_first_variable&lt;/confounder&gt;: &lt;explanation&gt;Description of first variable.&lt;/explanation&gt;\n",
       "            &lt;category&gt;True or false&lt;/category&gt;\n",
       "\n",
       "            &lt;confounder&gt;name_of_second_variable&lt;/confounder&gt;: &lt;explanation&gt;Description of second variable.&lt;/explanation&gt;\n",
       "            &lt;category&gt;True or false&lt;/category&gt;\n",
       "\n",
       "            ...\n",
       "\n",
       "            &lt;confounder&gt;name_of_nth_confounder&lt;/confounder&gt;: &lt;explanation&gt;Description of nth variable. \n",
       "            Explanation for why and how the selected variable is or is not a confounder.&lt;/explanation&gt;\n",
       "            &lt;category&gt;True or false&lt;/category&gt;</div></div><div style='display: flex; border-bottom: 1px solid rgba(127, 127, 127, 0.2); align-items: center;'><div style='flex: 0 0 80px; opacity: 0.5;'>user</div><div style='flex-grow: 1; padding: 5px; padding-top: 10px; padding-bottom: 10px; margin-top: 0px; white-space: pre-wrap; margin-bottom: 0px;'>Treatment: <span style='background-color: rgba(0, 138.56128016, 250.76166089, 0.25); display: inline;' title='{{treatment}}'>sleep_quality</span>\n",
       "        Outcome: <span style='background-color: rgba(0, 138.56128016, 250.76166089, 0.25); display: inline;' title='{{outcome}}'>heart_rate_variability</span>\n",
       "\n",
       "        Dataset schema with descriptions\n",
       "        <span style='background-color: rgba(0, 138.56128016, 250.76166089, 0.25); display: inline;' title='{{variables_and_descriptions}}'>age: The age of the individual or subject in the dataset, typically measured in years., health_status: The overall health condition of the individual, often categorized as &#x27;excellent&#x27;, &#x27;good&#x27;, &#x27;fair&#x27;, or &#x27;poor&#x27;., lifestyle_factors: The lifestyle_factors column represents various lifestyle behaviors or conditions of the individual that may impact their health. These can include factors like smoking, alcohol consumption, physical activity level, diet, sleep patterns, etc., caffeine_consumption: The amount of caffeine, typically measured in milligrams, consumed by the individual on a daily basis. This could include caffeine from all sources such as coffee, tea, chocolate, energy drinks, and certain medications., nutritional_status: The nutritional status of the individual, typically categorized as underweight, normal weight, overweight, or obese, based on body mass index (BMI) or other relevant measures., gender: The biological sex of the individual, typically categorized as male or female., education_level: The highest level of education attained by the individual, usually categorized into groups such as high school, college, post-graduate, etc., income_level: The income level of the individual, typically categorized into ranges like low, middle, and high, based on their total annual income., residential_area: The residential area where the individual or subject of the study lives, typically categorized by urban, suburban, or rural settings., medication: The type or name of the medication that the patient is currently taking or has been prescribed., physical_activity_level: The level of physical activity performed by the individual, often categorized into levels such as low, moderate, or high. This could be based on frequency, duration, and intensity of physical activities that the individual engages in., mental_stress_level: The level of mental stress experienced by the individual, often measured on a numeric scale (e.g., 1-10 or 1-100), where higher numbers represent higher levels of stress., occupational_stress_level: The level of stress experienced by the individual due to their occupation, typically measured on a scale., ambient_temperature: The surrounding temperature of the environment measured in degrees Celsius or Fahrenheit., sleep_hygiene_practices: The habits and behaviors related to the individual&#x27;s sleep quality and duration, which may include bedtime routine, sleep schedule, and sleep environment., chronic_health_conditions: The number or type of long-term health conditions that the individual has, such as diabetes, heart disease, or cancer. These conditions typically require ongoing management over a period of years or decades., menstrual_cycle_phase: The stage of the menstrual cycle the female participant is currently in. This could include phases such as menstruation, follicular phase, ovulation, and luteal phase.</span>\n",
       "\n",
       "        What variables directly influence both the treatment and the outcome?</div></div><div style='display: flex; border-bottom: 1px solid rgba(127, 127, 127, 0.2); align-items: center;'><div style='flex: 0 0 80px; opacity: 0.5;'>assistant</div><div style='flex-grow: 1; padding: 5px; padding-top: 10px; padding-bottom: 10px; margin-top: 0px; white-space: pre-wrap; margin-bottom: 0px;'><span style='background-color: rgba(0, 165, 0, 0.25); opacity: 1.0; display: inline;' title='{{gen &#x27;confounder_explanation&#x27; temperature=0.7}}'>&lt;confounder&gt;age&lt;/confounder&gt;: &lt;explanation&gt;Age could be a confounder as it can influence both sleep quality and heart rate variability. As people age, sleep patterns can change and sleep disorders become more common. Additionally, heart rate variability also tends to decrease with age.&lt;/explanation&gt;\n",
       "&lt;category&gt;True&lt;/category&gt;\n",
       "\n",
       "&lt;confounder&gt;health_status&lt;/confounder&gt;: &lt;explanation&gt;Health status can influence both sleep quality and heart rate variability. Poor health can lead to poorer sleep quality and also affect heart rate variability.&lt;/explanation&gt;\n",
       "&lt;category&gt;True&lt;/category&gt;\n",
       "\n",
       "&lt;confounder&gt;lifestyle_factors&lt;/confounder&gt;: &lt;explanation&gt;Lifestyle factors such as physical activity, diet, and smoking can influence both sleep quality and heart rate variability. For example, a sedentary lifestyle or poor diet can contribute to poor sleep and lower heart rate variability.&lt;/explanation&gt;\n",
       "&lt;category&gt;True&lt;/category&gt;\n",
       "\n",
       "&lt;confounder&gt;caffeine_consumption&lt;/confounder&gt;: &lt;explanation&gt;Caffeine consumption can influence both sleep quality and heart rate variability. High caffeine intake can lead to poor sleep and also increase heart rate variability.&lt;/explanation&gt;\n",
       "&lt;category&gt;True&lt;/category&gt;\n",
       "\n",
       "&lt;confounder&gt;nutritional_status&lt;/confounder&gt;: &lt;explanation&gt;Nutritional status can influence sleep quality but it&#x27;s indirect influence on heart rate variability is not clear and would require more evidence. &lt;/explanation&gt;\n",
       "&lt;category&gt;False&lt;/category&gt;\n",
       "\n",
       "&lt;confounder&gt;gender&lt;/confounder&gt;: &lt;explanation&gt;Gender may influence both sleep quality and heart rate variability due to biological differences between men and women. However, the influence is not direct and would depend on other factors.&lt;/explanation&gt;\n",
       "&lt;category&gt;False&lt;/category&gt;\n",
       "\n",
       "&lt;confounder&gt;education_level&lt;/confounder&gt;: &lt;explanation&gt;Education level is unlikely to directly influence sleep quality and heart rate variability.&lt;/explanation&gt;\n",
       "&lt;category&gt;False&lt;/category&gt;\n",
       "\n",
       "&lt;confounder&gt;income_level&lt;/confounder&gt;: &lt;explanation&gt;Income level could indirectly influence sleep quality and heart rate variability through factors like stress, but it&#x27;s not a direct influence.&lt;/explanation&gt;\n",
       "&lt;category&gt;False&lt;/category&gt;\n",
       "\n",
       "&lt;confounder&gt;residential_area&lt;/confounder&gt;: &lt;explanation&gt;Residential area could indirectly influence sleep quality due to factors like noise levels, but it&#x27;s unlikely to have a direct influence on heart rate variability.&lt;/explanation&gt;\n",
       "&lt;category&gt;False&lt;/category&gt;\n",
       "\n",
       "&lt;confounder&gt;medication&lt;/confounder&gt;: &lt;ex</span></div></div></pre></div>\n",
       "<script type=\"text/javascript\">(()=>{var t={296:(t,e,n)=>{var i=NaN,o=\"[object Symbol]\",r=/^\\s+|\\s+$/g,a=/^[-+]0x[0-9a-f]+$/i,s=/^0b[01]+$/i,c=/^0o[0-7]+$/i,d=parseInt,u=\"object\"==typeof n.g&&n.g&&n.g.Object===Object&&n.g,l=\"object\"==typeof self&&self&&self.Object===Object&&self,f=u||l||Function(\"return this\")(),h=Object.prototype.toString,p=Math.max,m=Math.min,g=function(){return f.Date.now()};function b(t){var e=typeof t;return!!t&&(\"object\"==e||\"function\"==e)}function y(t){if(\"number\"==typeof t)return t;if(function(t){return\"symbol\"==typeof t||function(t){return!!t&&\"object\"==typeof t}(t)&&h.call(t)==o}(t))return i;if(b(t)){var e=\"function\"==typeof t.valueOf?t.valueOf():t;t=b(e)?e+\"\":e}if(\"string\"!=typeof t)return 0===t?t:+t;t=t.replace(r,\"\");var n=s.test(t);return n||c.test(t)?d(t.slice(2),n?2:8):a.test(t)?i:+t}t.exports=function(t,e,n){var i,o,r,a,s,c,d=0,u=!1,l=!1,f=!0;if(\"function\"!=typeof t)throw new TypeError(\"Expected a function\");function h(e){var n=i,r=o;return i=o=void 0,d=e,a=t.apply(r,n)}function v(t){var n=t-c;return void 0===c||n>=e||n<0||l&&t-d>=r}function _(){var t=g();if(v(t))return w(t);s=setTimeout(_,function(t){var n=e-(t-c);return l?m(n,r-(t-d)):n}(t))}function w(t){return s=void 0,f&&i?h(t):(i=o=void 0,a)}function j(){var t=g(),n=v(t);if(i=arguments,o=this,c=t,n){if(void 0===s)return function(t){return d=t,s=setTimeout(_,e),u?h(t):a}(c);if(l)return s=setTimeout(_,e),h(c)}return void 0===s&&(s=setTimeout(_,e)),a}return e=y(e)||0,b(n)&&(u=!!n.leading,r=(l=\"maxWait\"in n)?p(y(n.maxWait)||0,e):r,f=\"trailing\"in n?!!n.trailing:f),j.cancel=function(){void 0!==s&&clearTimeout(s),d=0,i=c=o=s=void 0},j.flush=function(){return void 0===s?a:w(g())},j}},777:t=>{var e,n,i=Math.max,o=(e=function(t,e){return function(t,e,n){if(\"function\"!=typeof t)throw new TypeError(\"Expected a function\");return setTimeout((function(){t.apply(void 0,n)}),1)}(t,0,e)},n=i(void 0===n?e.length-1:n,0),function(){for(var t=arguments,o=-1,r=i(t.length-n,0),a=Array(r);++o<r;)a[o]=t[n+o];o=-1;for(var s=Array(n+1);++o<n;)s[o]=t[o];return s[n]=a,function(t,e,n){switch(n.length){case 0:return t.call(e);case 1:return t.call(e,n[0]);case 2:return t.call(e,n[0],n[1]);case 3:return t.call(e,n[0],n[1],n[2])}return t.apply(e,n)}(e,this,s)});t.exports=o}},e={};function n(i){var o=e[i];if(void 0!==o)return o.exports;var r=e[i]={exports:{}};return t[i](r,r.exports,n),r.exports}n.n=t=>{var e=t&&t.__esModule?()=>t.default:()=>t;return n.d(e,{a:e}),e},n.d=(t,e)=>{for(var i in e)n.o(e,i)&&!n.o(t,i)&&Object.defineProperty(t,i,{enumerable:!0,get:e[i]})},n.g=function(){if(\"object\"==typeof globalThis)return globalThis;try{return this||new Function(\"return this\")()}catch(t){if(\"object\"==typeof window)return window}}(),n.o=(t,e)=>Object.prototype.hasOwnProperty.call(t,e),(()=>{\"use strict\";const t=t=>{const e=new Set;do{for(const n of Reflect.ownKeys(t))e.add([t,n])}while((t=Reflect.getPrototypeOf(t))&&t!==Object.prototype);return e};function e(e,{include:n,exclude:i}={}){const o=t=>{const e=e=>\"string\"==typeof e?t===e:e.test(t);return n?n.some(e):!i||!i.some(e)};for(const[n,i]of t(e.constructor.prototype)){if(\"constructor\"===i||!o(i))continue;const t=Reflect.getOwnPropertyDescriptor(n,i);t&&\"function\"==typeof t.value&&(e[i]=e[i].bind(e))}return e}var i=n(777),o=n.n(i),r=n(296),a=n.n(r);class s{constructor(t,n){e(this),this.interfaceId=t,this.callbackMap={},this.data={},this.pendingData={},this.jcomm=new c(\"guidance_interface_target_\"+this.interfaceId,this.updateData,\"open\"),this.debouncedSendPendingData500=a()(this.sendPendingData,500),this.debouncedSendPendingData1000=a()(this.sendPendingData,1e3),n&&o()(n)}send(t,e){this.addPendingData(t,e),this.sendPendingData()}sendEvent(t){for(const e of Object.keys(t))this.addPendingData(e,t[e]);this.sendPendingData()}debouncedSendEvent500(t){for(const e of Object.keys(t))this.addPendingData(e,t[e]);this.debouncedSendPendingData500()}debouncedSend500(t,e){this.addPendingData(t,e),this.debouncedSendPendingData500()}debouncedSend1000(t,e){this.addPendingData(t,e),this.debouncedSendPendingData1000()}addPendingData(t,e){Array.isArray(t)||(t=[t]);for(const n in t)this.pendingData[t[n]]=e}updateData(t){t=JSON.parse(t.data);for(const e in t)this.data[e]=t[e];for(const e in t)e in this.callbackMap&&this.callbackMap[e](this.data[e])}subscribe(t,e){this.callbackMap[t]=e,o()((e=>this.callbackMap[t](this.data[t])))}sendPendingData(){this.jcomm.send_data(this.pendingData),this.pendingData={}}}class c{constructor(t,e,n=\"open\"){this._fire_callback=this._fire_callback.bind(this),this._register=this._register.bind(this),this.jcomm=void 0,this.callback=e,void 0!==window.Jupyter?\"register\"===n?Jupyter.notebook.kernel.comm_manager.register_target(t,this._register):(this.jcomm=Jupyter.notebook.kernel.comm_manager.new_comm(t),this.jcomm.on_msg(this._fire_callback)):void 0!==window._mgr&&(\"register\"===n?window._mgr.widgetManager.proxyKernel.registerCommTarget(t,this._register):(this.jcomm=window._mgr.widgetManager.proxyKernel.createComm(t),this.jcomm.open({},\"\"),this.jcomm.onMsg=this._fire_callback))}send_data(t){void 0!==this.jcomm?this.jcomm.send(t):console.error(\"Jupyter comm module not yet loaded! So we can't send the message.\")}_register(t,e){this.jcomm=t,this.jcomm.on_msg(this._fire_callback)}_fire_callback(t){this.callback(t.content.data)}}class d{constructor(t,n){e(this),this.id=t,this.comm=new s(t),this.comm.subscribe(\"append\",this.appendData),this.comm.subscribe(\"replace\",this.replaceData),this.comm.subscribe(\"event\",this.eventOccurred),this.element=document.getElementById(\"guidance-content-\"+t),this.stop_button=document.getElementById(\"guidance-stop-button-\"+t),this.stop_button.onclick=()=>this.comm.send(\"event\",\"stop\")}appendData(t){t&&(this.stop_button.style.display=\"inline-block\",this.element.innerHTML+=t)}replaceData(t){t&&(this.stop_button.style.display=\"inline-block\",this.element.innerHTML=t)}eventOccurred(t){\"complete\"===t&&(this.stop_button.style.display=\"none\")}}window._guidanceDisplay=function(t,e){return new d(t,e)}})()})();; window._guidanceDisplay(\"23d784af-5fd5-4479-9f99-dc2c096a90ef\");</script>"
      ]
     },
     "metadata": {},
     "output_type": "display_data"
    }
   ],
   "source": [
    "confounders_and_descriptions = modeler.suggest_confounders(variables_and_descriptions=variables_and_descriptions, llm=gpt4, treatment=\"sleep_quality\", outcome=\"heart_rate_variability\")"
   ]
  },
  {
   "cell_type": "code",
   "execution_count": 14,
   "metadata": {},
   "outputs": [
    {
     "data": {
      "text/plain": [
       "<dodiscover.context_builder.ContextBuilder at 0x1e8a2ff3400>"
      ]
     },
     "execution_count": 14,
     "metadata": {},
     "output_type": "execute_result"
    }
   ],
   "source": [
    "context_builder.observed_variables(variables_and_datatypes)"
   ]
  },
  {
   "cell_type": "code",
   "execution_count": 15,
   "metadata": {},
   "outputs": [
    {
     "name": "stdout",
     "output_type": "stream",
     "text": [
      "age: Age could be a confounder as it can influence both sleep quality and heart rate variability. As people age, sleep patterns can change and sleep disorders become more common. Additionally, heart rate variability also tends to decrease with age.\n",
      "health_status: Health status can influence both sleep quality and heart rate variability. Poor health can lead to poorer sleep quality and also affect heart rate variability.\n",
      "lifestyle_factors: Lifestyle factors such as physical activity, diet, and smoking can influence both sleep quality and heart rate variability. For example, a sedentary lifestyle or poor diet can contribute to poor sleep and lower heart rate variability.\n",
      "caffeine_consumption: Caffeine consumption can influence both sleep quality and heart rate variability. High caffeine intake can lead to poor sleep and also increase heart rate variability.\n"
     ]
    }
   ],
   "source": [
    "for confounder, description in confounders_and_descriptions.items():\n",
    "    print(f\"{confounder}: {description}\")"
   ]
  },
  {
   "cell_type": "code",
   "execution_count": 16,
   "metadata": {},
   "outputs": [
    {
     "data": {
      "text/html": [
       "<div id=\"guidance-stop-button-6e67c158-af18-4a2e-8988-3cdc26591cae\" style=\"cursor: pointer; margin: 0px; display: none; float: right; padding: 3px; border-radius: 4px 4px 4px 4px; border: 0px solid rgba(127, 127, 127, 1); padding-left: 10px; padding-right: 10px; font-size: 13px; background-color: rgba(127, 127, 127, 0.25);\">Stop program</div><div id=\"guidance-content-6e67c158-af18-4a2e-8988-3cdc26591cae\"><pre style='margin: 0px; padding: 0px; padding-left: 8px; margin-left: -8px; border-radius: 0px; border-left: 1px solid rgba(127, 127, 127, 0.2); white-space: pre-wrap; font-family: ColfaxAI, Arial; font-size: 15px; line-height: 23px;'><div style='display: flex; border-bottom: 1px solid rgba(127, 127, 127, 0.2); align-items: center;'><div style='flex: 0 0 80px; opacity: 0.5;'>system</div><div style='flex-grow: 1; padding: 5px; padding-top: 10px; padding-bottom: 10px; margin-top: 0px; white-space: pre-wrap; margin-bottom: 0px;'>As an expert in causal inference, your role is to guide me in discovering the causal graph representing my dataset. Let&#x27;s work together to uncover the underlying causal relationships.\n",
       "\n",
       "        To begin, I will provide you with a comprehensive overview of the dataset by presenting you with the columns of the dataset along with their associated descriptions. These descriptions offer valuable insights into the variables and their significance within the dataset.\n",
       "\n",
       "        Now, let&#x27;s focus on two specific variables of interest. Your task is to identify whether there is a direct causal relationship between these variables and, if so, determine the direction of causality. In essence, you need to identify which variable acts as the parent and which one acts as the child in the causal relationship. It is essential to carefully analyze the relationships and explain your reasoning step by step. This process ensures that the relationship you identify is meaningful in a causal sense.\n",
       "\n",
       "        During your analysis, consider various factors to guide your assessment. These factors include:\n",
       "\n",
       "        1. Direction of causality: Determine the direction of causality between the variables. Identify which variable influences the other, or if there is a bidirectional relationship.\n",
       "\n",
       "        2. Temporal relationships: Consider the temporal order of events. Assess whether one variable precedes the other in time, as causal relationships typically exhibit a temporal sequence.\n",
       "\n",
       "        3. Conditional independence: Evaluate whether the relationship holds even after accounting for other relevant factors. Assess if the relationship is independent of potential confounding variables.\n",
       "\n",
       "        By taking into account the direction of causality, temporal relationships, and conditional independence, you can enhance the rigor and validity of your analysis. Following this step-by-step approach, we can unravel the causal connections and construct an accurate causal graph for the dataset.\n",
       "\n",
       "        Your expertise in causal inference will play a pivotal role in identifying the direction of causality and providing insightful explanations. Let&#x27;s collaborate to uncover the hidden causal structure behind our dataset.\n",
       "        ------------------------------------------\n",
       "        Input:\n",
       "\n",
       "            Dataset schema with descriptions\n",
       "                name_of_first_variable: Description of first variable.\n",
       "                name_of_second_variable: Description of second variable.\n",
       "                ...\n",
       "                name_of_nth_confounder: Description of nth variable.     \n",
       "\n",
       "            Selected variables\n",
       "                first_variable\n",
       "                second_variable    \n",
       "\n",
       "        Output (if there is a causal relationship):\n",
       "            &lt;parent&gt;variable_a&lt;/parent&gt;\n",
       "            &lt;child&gt;variable_b&lt;/child&gt;\n",
       "            &lt;explanation&gt;Explanation for why and how variable_a is the parent of variable_b.&lt;/explanation&gt;\n",
       "\n",
       "        Output (if there is no causal relationship): \n",
       "            &lt;null&gt;</div></div><div style='display: flex; border-bottom: 1px solid rgba(127, 127, 127, 0.2); align-items: center;'><div style='flex: 0 0 80px; opacity: 0.5;'>user</div><div style='flex-grow: 1; padding: 5px; padding-top: 10px; padding-bottom: 10px; margin-top: 0px; white-space: pre-wrap; margin-bottom: 0px;'>Dataset schema with descriptions\n",
       "        <span style='background-color: rgba(0, 138.56128016, 250.76166089, 0.25); display: inline;' title='{{variables_and_descriptions}}'>{&#x27;sleep_quality&#x27;: &quot;The subjective rating of the individual&#x27;s quality of sleep, typically measured on a scale (for example 1-5, with 1 being poor quality and 5 being excellent).&quot;, &#x27;heart_rate_variability&#x27;: &quot;The variability in the time interval between consecutive heartbeats in milliseconds. This can be used as a measure of the body&#x27;s autonomic nervous system function and stress level.&quot;, &#x27;age&#x27;: &#x27;Age could be a confounder as it can influence both sleep quality and heart rate variability. As people age, sleep patterns can change and sleep disorders become more common. Additionally, heart rate variability also tends to decrease with age.&#x27;, &#x27;health_status&#x27;: &#x27;Health status can influence both sleep quality and heart rate variability. Poor health can lead to poorer sleep quality and also affect heart rate variability.&#x27;, &#x27;lifestyle_factors&#x27;: &#x27;Lifestyle factors such as physical activity, diet, and smoking can influence both sleep quality and heart rate variability. For example, a sedentary lifestyle or poor diet can contribute to poor sleep and lower heart rate variability.&#x27;, &#x27;caffeine_consumption&#x27;: &#x27;Caffeine consumption can influence both sleep quality and heart rate variability. High caffeine intake can lead to poor sleep and also increase heart rate variability.&#x27;, &#x27;nutritional_status&#x27;: &#x27;The nutritional status of the individual, typically categorized as underweight, normal weight, overweight, or obese, based on body mass index (BMI) or other relevant measures.&#x27;, &#x27;gender&#x27;: &#x27;The biological sex of the individual, typically categorized as male or female.&#x27;, &#x27;education_level&#x27;: &#x27;The highest level of education attained by the individual, usually categorized into groups such as high school, college, post-graduate, etc.&#x27;, &#x27;income_level&#x27;: &#x27;The income level of the individual, typically categorized into ranges like low, middle, and high, based on their total annual income.&#x27;, &#x27;residential_area&#x27;: &#x27;The residential area where the individual or subject of the study lives, typically categorized by urban, suburban, or rural settings.&#x27;, &#x27;medication&#x27;: &#x27;The type or name of the medication that the patient is currently taking or has been prescribed.&#x27;, &#x27;physical_activity_level&#x27;: &#x27;The level of physical activity performed by the individual, often categorized into levels such as low, moderate, or high. This could be based on frequency, duration, and intensity of physical activities that the individual engages in.&#x27;, &#x27;mental_stress_level&#x27;: &#x27;The level of mental stress experienced by the individual, often measured on a numeric scale (e.g., 1-10 or 1-100), where higher numbers represent higher levels of stress.&#x27;, &#x27;occupational_stress_level&#x27;: &#x27;The level of stress experienced by the individual due to their occupation, typically measured on a scale.&#x27;, &#x27;ambient_temperature&#x27;: &#x27;The surrounding temperature of the environment measured in degrees Celsius or Fahrenheit.&#x27;, &#x27;sleep_hygiene_practices&#x27;: &quot;The habits and behaviors related to the individual&#x27;s sleep quality and duration, which may include bedtime routine, sleep schedule, and sleep environment.&quot;, &#x27;chronic_health_conditions&#x27;: &#x27;The number or type of long-term health conditions that the individual has, such as diabetes, heart disease, or cancer. These conditions typically require ongoing management over a period of years or decades.&#x27;, &#x27;menstrual_cycle_phase&#x27;: &#x27;The stage of the menstrual cycle the female participant is currently in. This could include phases such as menstruation, follicular phase, ovulation, and luteal phase.&#x27;}</span>\n",
       "\n",
       "        Selected variables\n",
       "        <span style='background-color: rgba(0, 138.56128016, 250.76166089, 0.25); display: inline;' title='{{variable_a}}'>sleep_quality</span>\n",
       "        <span style='background-color: rgba(0, 138.56128016, 250.76166089, 0.25); display: inline;' title='{{variable_b}}'>heart_rate_variability</span></div></div><div style='display: flex; border-bottom: 1px solid rgba(127, 127, 127, 0.2); align-items: center;'><div style='flex: 0 0 80px; opacity: 0.5;'>assistant</div><div style='flex-grow: 1; padding: 5px; padding-top: 10px; padding-bottom: 10px; margin-top: 0px; white-space: pre-wrap; margin-bottom: 0px;'><span style='background-color: rgba(0, 165, 0, 0.25); opacity: 1.0; display: inline;' title='{{gen &#x27;relationships&#x27; temperature=0.7}}'>&lt;parent&gt;sleep_quality&lt;/parent&gt;\n",
       "&lt;child&gt;heart_rate_variability&lt;/child&gt;\n",
       "&lt;explanation&gt;The quality of sleep can directly affect the heart rate variability. A good night&#x27;s sleep can contribute to better autonomic nervous system function, which in turn can increase heart rate variability. On the flip side, poor sleep quality can lead to increased stress levels and in turn decrease heart rate variability. Therefore, sleep quality is the parent variable, and heart rate variability is the child variable.\n",
       "\n",
       "However, it&#x27;s important to note that this relationship could be confounded by other variables in the dataset. For example, factors such as age, health status, and lifestyle factors can influence both sleep quality and heart rate variability. Therefore, in order to establish a direct causal relationship between sleep quality and heart rate variability, these potential confounders should be controlled for in the analysis.&lt;/explanation&gt;</span></div></div></pre></div>\n",
       "<script type=\"text/javascript\">(()=>{var t={296:(t,e,n)=>{var i=NaN,o=\"[object Symbol]\",r=/^\\s+|\\s+$/g,a=/^[-+]0x[0-9a-f]+$/i,s=/^0b[01]+$/i,c=/^0o[0-7]+$/i,d=parseInt,u=\"object\"==typeof n.g&&n.g&&n.g.Object===Object&&n.g,l=\"object\"==typeof self&&self&&self.Object===Object&&self,f=u||l||Function(\"return this\")(),h=Object.prototype.toString,p=Math.max,m=Math.min,g=function(){return f.Date.now()};function b(t){var e=typeof t;return!!t&&(\"object\"==e||\"function\"==e)}function y(t){if(\"number\"==typeof t)return t;if(function(t){return\"symbol\"==typeof t||function(t){return!!t&&\"object\"==typeof t}(t)&&h.call(t)==o}(t))return i;if(b(t)){var e=\"function\"==typeof t.valueOf?t.valueOf():t;t=b(e)?e+\"\":e}if(\"string\"!=typeof t)return 0===t?t:+t;t=t.replace(r,\"\");var n=s.test(t);return n||c.test(t)?d(t.slice(2),n?2:8):a.test(t)?i:+t}t.exports=function(t,e,n){var i,o,r,a,s,c,d=0,u=!1,l=!1,f=!0;if(\"function\"!=typeof t)throw new TypeError(\"Expected a function\");function h(e){var n=i,r=o;return i=o=void 0,d=e,a=t.apply(r,n)}function v(t){var n=t-c;return void 0===c||n>=e||n<0||l&&t-d>=r}function _(){var t=g();if(v(t))return w(t);s=setTimeout(_,function(t){var n=e-(t-c);return l?m(n,r-(t-d)):n}(t))}function w(t){return s=void 0,f&&i?h(t):(i=o=void 0,a)}function j(){var t=g(),n=v(t);if(i=arguments,o=this,c=t,n){if(void 0===s)return function(t){return d=t,s=setTimeout(_,e),u?h(t):a}(c);if(l)return s=setTimeout(_,e),h(c)}return void 0===s&&(s=setTimeout(_,e)),a}return e=y(e)||0,b(n)&&(u=!!n.leading,r=(l=\"maxWait\"in n)?p(y(n.maxWait)||0,e):r,f=\"trailing\"in n?!!n.trailing:f),j.cancel=function(){void 0!==s&&clearTimeout(s),d=0,i=c=o=s=void 0},j.flush=function(){return void 0===s?a:w(g())},j}},777:t=>{var e,n,i=Math.max,o=(e=function(t,e){return function(t,e,n){if(\"function\"!=typeof t)throw new TypeError(\"Expected a function\");return setTimeout((function(){t.apply(void 0,n)}),1)}(t,0,e)},n=i(void 0===n?e.length-1:n,0),function(){for(var t=arguments,o=-1,r=i(t.length-n,0),a=Array(r);++o<r;)a[o]=t[n+o];o=-1;for(var s=Array(n+1);++o<n;)s[o]=t[o];return s[n]=a,function(t,e,n){switch(n.length){case 0:return t.call(e);case 1:return t.call(e,n[0]);case 2:return t.call(e,n[0],n[1]);case 3:return t.call(e,n[0],n[1],n[2])}return t.apply(e,n)}(e,this,s)});t.exports=o}},e={};function n(i){var o=e[i];if(void 0!==o)return o.exports;var r=e[i]={exports:{}};return t[i](r,r.exports,n),r.exports}n.n=t=>{var e=t&&t.__esModule?()=>t.default:()=>t;return n.d(e,{a:e}),e},n.d=(t,e)=>{for(var i in e)n.o(e,i)&&!n.o(t,i)&&Object.defineProperty(t,i,{enumerable:!0,get:e[i]})},n.g=function(){if(\"object\"==typeof globalThis)return globalThis;try{return this||new Function(\"return this\")()}catch(t){if(\"object\"==typeof window)return window}}(),n.o=(t,e)=>Object.prototype.hasOwnProperty.call(t,e),(()=>{\"use strict\";const t=t=>{const e=new Set;do{for(const n of Reflect.ownKeys(t))e.add([t,n])}while((t=Reflect.getPrototypeOf(t))&&t!==Object.prototype);return e};function e(e,{include:n,exclude:i}={}){const o=t=>{const e=e=>\"string\"==typeof e?t===e:e.test(t);return n?n.some(e):!i||!i.some(e)};for(const[n,i]of t(e.constructor.prototype)){if(\"constructor\"===i||!o(i))continue;const t=Reflect.getOwnPropertyDescriptor(n,i);t&&\"function\"==typeof t.value&&(e[i]=e[i].bind(e))}return e}var i=n(777),o=n.n(i),r=n(296),a=n.n(r);class s{constructor(t,n){e(this),this.interfaceId=t,this.callbackMap={},this.data={},this.pendingData={},this.jcomm=new c(\"guidance_interface_target_\"+this.interfaceId,this.updateData,\"open\"),this.debouncedSendPendingData500=a()(this.sendPendingData,500),this.debouncedSendPendingData1000=a()(this.sendPendingData,1e3),n&&o()(n)}send(t,e){this.addPendingData(t,e),this.sendPendingData()}sendEvent(t){for(const e of Object.keys(t))this.addPendingData(e,t[e]);this.sendPendingData()}debouncedSendEvent500(t){for(const e of Object.keys(t))this.addPendingData(e,t[e]);this.debouncedSendPendingData500()}debouncedSend500(t,e){this.addPendingData(t,e),this.debouncedSendPendingData500()}debouncedSend1000(t,e){this.addPendingData(t,e),this.debouncedSendPendingData1000()}addPendingData(t,e){Array.isArray(t)||(t=[t]);for(const n in t)this.pendingData[t[n]]=e}updateData(t){t=JSON.parse(t.data);for(const e in t)this.data[e]=t[e];for(const e in t)e in this.callbackMap&&this.callbackMap[e](this.data[e])}subscribe(t,e){this.callbackMap[t]=e,o()((e=>this.callbackMap[t](this.data[t])))}sendPendingData(){this.jcomm.send_data(this.pendingData),this.pendingData={}}}class c{constructor(t,e,n=\"open\"){this._fire_callback=this._fire_callback.bind(this),this._register=this._register.bind(this),this.jcomm=void 0,this.callback=e,void 0!==window.Jupyter?\"register\"===n?Jupyter.notebook.kernel.comm_manager.register_target(t,this._register):(this.jcomm=Jupyter.notebook.kernel.comm_manager.new_comm(t),this.jcomm.on_msg(this._fire_callback)):void 0!==window._mgr&&(\"register\"===n?window._mgr.widgetManager.proxyKernel.registerCommTarget(t,this._register):(this.jcomm=window._mgr.widgetManager.proxyKernel.createComm(t),this.jcomm.open({},\"\"),this.jcomm.onMsg=this._fire_callback))}send_data(t){void 0!==this.jcomm?this.jcomm.send(t):console.error(\"Jupyter comm module not yet loaded! So we can't send the message.\")}_register(t,e){this.jcomm=t,this.jcomm.on_msg(this._fire_callback)}_fire_callback(t){this.callback(t.content.data)}}class d{constructor(t,n){e(this),this.id=t,this.comm=new s(t),this.comm.subscribe(\"append\",this.appendData),this.comm.subscribe(\"replace\",this.replaceData),this.comm.subscribe(\"event\",this.eventOccurred),this.element=document.getElementById(\"guidance-content-\"+t),this.stop_button=document.getElementById(\"guidance-stop-button-\"+t),this.stop_button.onclick=()=>this.comm.send(\"event\",\"stop\")}appendData(t){t&&(this.stop_button.style.display=\"inline-block\",this.element.innerHTML+=t)}replaceData(t){t&&(this.stop_button.style.display=\"inline-block\",this.element.innerHTML=t)}eventOccurred(t){\"complete\"===t&&(this.stop_button.style.display=\"none\")}}window._guidanceDisplay=function(t,e){return new d(t,e)}})()})();; window._guidanceDisplay(\"6e67c158-af18-4a2e-8988-3cdc26591cae\");</script>"
      ]
     },
     "metadata": {},
     "output_type": "display_data"
    },
    {
     "ename": "TypeError",
     "evalue": "Tuple[t0, t1, ...]: each t must be a type. Got ['sleep_quality'].",
     "output_type": "error",
     "traceback": [
      "\u001b[1;31m---------------------------------------------------------------------------\u001b[0m",
      "\u001b[1;31mTypeError\u001b[0m                                 Traceback (most recent call last)",
      "Cell \u001b[1;32mIn[16], line 1\u001b[0m\n\u001b[1;32m----> 1\u001b[0m relevant_relationships_and_descriptions \u001b[39m=\u001b[39m modeler\u001b[39m.\u001b[39;49msuggest_variable_relationships(variables_and_descriptions\u001b[39m=\u001b[39;49mvariables_and_descriptions, latent_confounders_descriptions\u001b[39m=\u001b[39;49mconfounders_and_descriptions, treatment\u001b[39m=\u001b[39;49m\u001b[39m\"\u001b[39;49m\u001b[39msleep_quality\u001b[39;49m\u001b[39m\"\u001b[39;49m, outcome\u001b[39m=\u001b[39;49m\u001b[39m\"\u001b[39;49m\u001b[39mheart_rate_variability\u001b[39;49m\u001b[39m\"\u001b[39;49m, llm\u001b[39m=\u001b[39;49mgpt4)\n",
      "File \u001b[1;32mc:\\Users\\t-rdesicilia\\Documents\\VSCodeProjects\\Augment\\Augment\\pywhy_llm\\model_suggestor.py:252\u001b[0m, in \u001b[0;36mModelSuggestor.suggest_variable_relationships\u001b[1;34m(self, variables_and_descriptions, treatment, outcome, llm, latent_confounders_descriptions)\u001b[0m\n\u001b[0;32m    249\u001b[0m             child \u001b[39m=\u001b[39m re\u001b[39m.\u001b[39mfindall(\u001b[39mr\u001b[39m\u001b[39m'\u001b[39m\u001b[39m<child>(.*?)</child>\u001b[39m\u001b[39m'\u001b[39m, output[\u001b[39m'\u001b[39m\u001b[39mrelationships\u001b[39m\u001b[39m'\u001b[39m])\n\u001b[0;32m    250\u001b[0m             explanation \u001b[39m=\u001b[39m re\u001b[39m.\u001b[39mfindall(\u001b[39mr\u001b[39m\u001b[39m'\u001b[39m\u001b[39m<explanation>(.*?)</explanation>\u001b[39m\u001b[39m'\u001b[39m, output[\u001b[39m'\u001b[39m\u001b[39mrelationships\u001b[39m\u001b[39m'\u001b[39m])\n\u001b[1;32m--> 252\u001b[0m             relationships_and_descriptions[Tuple[parent, child]] \u001b[39m=\u001b[39m explanation \n\u001b[0;32m    254\u001b[0m \u001b[39mreturn\u001b[39;00m relationships_and_descriptions\n",
      "File \u001b[1;32m~\\PythonVersions\\Python10\\lib\\typing.py:312\u001b[0m, in \u001b[0;36m_tp_cache.<locals>.decorator.<locals>.inner\u001b[1;34m(*args, **kwds)\u001b[0m\n\u001b[0;32m    310\u001b[0m \u001b[39mexcept\u001b[39;00m \u001b[39mTypeError\u001b[39;00m:\n\u001b[0;32m    311\u001b[0m     \u001b[39mpass\u001b[39;00m  \u001b[39m# All real errors (not unhashable args) are raised below.\u001b[39;00m\n\u001b[1;32m--> 312\u001b[0m \u001b[39mreturn\u001b[39;00m func(\u001b[39m*\u001b[39margs, \u001b[39m*\u001b[39m\u001b[39m*\u001b[39mkwds)\n",
      "File \u001b[1;32m~\\PythonVersions\\Python10\\lib\\typing.py:1234\u001b[0m, in \u001b[0;36m_TupleType.__getitem__\u001b[1;34m(self, params)\u001b[0m\n\u001b[0;32m   1232\u001b[0m     \u001b[39mreturn\u001b[39;00m \u001b[39mself\u001b[39m\u001b[39m.\u001b[39mcopy_with((p, _TypingEllipsis))\n\u001b[0;32m   1233\u001b[0m msg \u001b[39m=\u001b[39m \u001b[39m\"\u001b[39m\u001b[39mTuple[t0, t1, ...]: each t must be a type.\u001b[39m\u001b[39m\"\u001b[39m\n\u001b[1;32m-> 1234\u001b[0m params \u001b[39m=\u001b[39m \u001b[39mtuple\u001b[39;49m(_type_check(p, msg) \u001b[39mfor\u001b[39;49;00m p \u001b[39min\u001b[39;49;00m params)\n\u001b[0;32m   1235\u001b[0m \u001b[39mreturn\u001b[39;00m \u001b[39mself\u001b[39m\u001b[39m.\u001b[39mcopy_with(params)\n",
      "File \u001b[1;32m~\\PythonVersions\\Python10\\lib\\typing.py:1234\u001b[0m, in \u001b[0;36m<genexpr>\u001b[1;34m(.0)\u001b[0m\n\u001b[0;32m   1232\u001b[0m     \u001b[39mreturn\u001b[39;00m \u001b[39mself\u001b[39m\u001b[39m.\u001b[39mcopy_with((p, _TypingEllipsis))\n\u001b[0;32m   1233\u001b[0m msg \u001b[39m=\u001b[39m \u001b[39m\"\u001b[39m\u001b[39mTuple[t0, t1, ...]: each t must be a type.\u001b[39m\u001b[39m\"\u001b[39m\n\u001b[1;32m-> 1234\u001b[0m params \u001b[39m=\u001b[39m \u001b[39mtuple\u001b[39m(_type_check(p, msg) \u001b[39mfor\u001b[39;00m p \u001b[39min\u001b[39;00m params)\n\u001b[0;32m   1235\u001b[0m \u001b[39mreturn\u001b[39;00m \u001b[39mself\u001b[39m\u001b[39m.\u001b[39mcopy_with(params)\n",
      "File \u001b[1;32m~\\PythonVersions\\Python10\\lib\\typing.py:176\u001b[0m, in \u001b[0;36m_type_check\u001b[1;34m(arg, msg, is_argument, module, allow_special_forms)\u001b[0m\n\u001b[0;32m    174\u001b[0m     \u001b[39mreturn\u001b[39;00m arg\n\u001b[0;32m    175\u001b[0m \u001b[39mif\u001b[39;00m \u001b[39mnot\u001b[39;00m \u001b[39mcallable\u001b[39m(arg):\n\u001b[1;32m--> 176\u001b[0m     \u001b[39mraise\u001b[39;00m \u001b[39mTypeError\u001b[39;00m(\u001b[39mf\u001b[39m\u001b[39m\"\u001b[39m\u001b[39m{\u001b[39;00mmsg\u001b[39m}\u001b[39;00m\u001b[39m Got \u001b[39m\u001b[39m{\u001b[39;00marg\u001b[39m!r:\u001b[39;00m\u001b[39m.100\u001b[39m\u001b[39m}\u001b[39;00m\u001b[39m.\u001b[39m\u001b[39m\"\u001b[39m)\n\u001b[0;32m    177\u001b[0m \u001b[39mreturn\u001b[39;00m arg\n",
      "\u001b[1;31mTypeError\u001b[0m: Tuple[t0, t1, ...]: each t must be a type. Got ['sleep_quality']."
     ]
    }
   ],
   "source": [
    "relevant_relationships_and_descriptions = modeler.suggest_variable_relationships(variables_and_descriptions=variables_and_descriptions, latent_confounders_descriptions=confounders_and_descriptions, treatment=\"sleep_quality\", outcome=\"heart_rate_variability\", llm=gpt4)"
   ]
  },
  {
   "cell_type": "code",
   "execution_count": 17,
   "metadata": {},
   "outputs": [
    {
     "ename": "NameError",
     "evalue": "name 'relevant_relationships_and_descriptions' is not defined",
     "output_type": "error",
     "traceback": [
      "\u001b[1;31m---------------------------------------------------------------------------\u001b[0m",
      "\u001b[1;31mNameError\u001b[0m                                 Traceback (most recent call last)",
      "Cell \u001b[1;32mIn[17], line 1\u001b[0m\n\u001b[1;32m----> 1\u001b[0m \u001b[39mfor\u001b[39;00m relationship, description \u001b[39min\u001b[39;00m relevant_relationships_and_descriptions\u001b[39m.\u001b[39mitems():\n\u001b[0;32m      2\u001b[0m     \u001b[39mprint\u001b[39m(\u001b[39mf\u001b[39m\u001b[39m\"\u001b[39m\u001b[39m{\u001b[39;00mrelationship\u001b[39m}\u001b[39;00m\u001b[39m: \u001b[39m\u001b[39m{\u001b[39;00mdescription\u001b[39m}\u001b[39;00m\u001b[39m\"\u001b[39m) \n",
      "\u001b[1;31mNameError\u001b[0m: name 'relevant_relationships_and_descriptions' is not defined"
     ]
    }
   ],
   "source": [
    "for relationship, description in relevant_relationships_and_descriptions.items():\n",
    "    print(f\"{relationship}: {description}\") "
   ]
  },
  {
   "cell_type": "code",
   "execution_count": 17,
   "metadata": {},
   "outputs": [
    {
     "ename": "NameError",
     "evalue": "name 'relevant_relationships_and_descriptions' is not defined",
     "output_type": "error",
     "traceback": [
      "\u001b[1;31m---------------------------------------------------------------------------\u001b[0m",
      "\u001b[1;31mNameError\u001b[0m                                 Traceback (most recent call last)",
      "Cell \u001b[1;32mIn[17], line 5\u001b[0m\n\u001b[0;32m      3\u001b[0m g \u001b[39m=\u001b[39m nx\u001b[39m.\u001b[39mDiGraph()\n\u001b[0;32m      4\u001b[0m g\u001b[39m.\u001b[39madd_nodes_from(variable_names)\n\u001b[1;32m----> 5\u001b[0m g\u001b[39m.\u001b[39madd_edges_from(relevant_relationships_and_descriptions\u001b[39m.\u001b[39mkeys())\n\u001b[0;32m      7\u001b[0m \u001b[39m'''show graph'''\u001b[39;00m\n\u001b[0;32m      8\u001b[0m \u001b[39mimport\u001b[39;00m \u001b[39mmatplotlib\u001b[39;00m\u001b[39m.\u001b[39;00m\u001b[39mpyplot\u001b[39;00m \u001b[39mas\u001b[39;00m \u001b[39mplt\u001b[39;00m\n",
      "\u001b[1;31mNameError\u001b[0m: name 'relevant_relationships_and_descriptions' is not defined"
     ]
    }
   ],
   "source": [
    "import networkx as nx\n",
    "\n",
    "g = nx.DiGraph()\n",
    "g.add_nodes_from(variable_names)\n",
    "g.add_edges_from(relevant_relationships_and_descriptions.keys())\n",
    "\n",
    "'''show graph'''\n",
    "import matplotlib.pyplot as plt\n",
    "\n",
    "nx.draw(g, with_labels=True)\n",
    "plt.show()\n"
   ]
  },
  {
   "cell_type": "code",
   "execution_count": null,
   "metadata": {},
   "outputs": [],
   "source": []
  }
 ],
 "metadata": {
  "kernelspec": {
   "display_name": "askwhy_venv",
   "language": "python",
   "name": "python3"
  },
  "language_info": {
   "codemirror_mode": {
    "name": "ipython",
    "version": 3
   },
   "file_extension": ".py",
   "mimetype": "text/x-python",
   "name": "python",
   "nbconvert_exporter": "python",
   "pygments_lexer": "ipython3",
   "version": "3.10.11"
  },
  "orig_nbformat": 4
 },
 "nbformat": 4,
 "nbformat_minor": 2
}
